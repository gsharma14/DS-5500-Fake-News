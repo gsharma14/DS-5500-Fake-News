{
 "cells": [
  {
   "cell_type": "code",
   "execution_count": 1,
   "metadata": {},
   "outputs": [],
   "source": [
    "#Loading Libraries\n",
    "import numpy as np\n",
    "import pandas as pd\n",
    "import seaborn as sns\n",
    "import matplotlib.pyplot as plt\n",
    "import nltk\n",
    "from sklearn.preprocessing import LabelBinarizer\n",
    "from nltk.corpus import stopwords\n",
    "from nltk.stem.porter import PorterStemmer\n",
    "from wordcloud import WordCloud,STOPWORDS\n",
    "from nltk.stem import WordNetLemmatizer\n",
    "from nltk.tokenize import word_tokenize,sent_tokenize\n",
    "from bs4 import BeautifulSoup\n",
    "import re,string,unicodedata\n",
    "from keras.preprocessing import text, sequence\n",
    "from sklearn.metrics import classification_report,confusion_matrix,accuracy_score,f1_score\n",
    "from sklearn.model_selection import train_test_split\n",
    "from string import punctuation\n",
    "from nltk import pos_tag\n",
    "from nltk.corpus import wordnet\n",
    "import keras\n",
    "from keras.models import Sequential\n",
    "from keras.layers import Dense,Embedding,LSTM,Dropout\n",
    "from keras.callbacks import ReduceLROnPlateau\n",
    "import tensorflow as tf\n",
    "\n",
    "from sklearn.feature_extraction.text import CountVectorizer\n",
    "from sklearn.feature_extraction.text import TfidfTransformer\n",
    "from sklearn.feature_extraction.text import TfidfVectorizer\n",
    "from sklearn.pipeline import Pipeline\n",
    "from sklearn.linear_model import  LogisticRegression\n",
    "from sklearn.linear_model import SGDClassifier\n",
    "from sklearn.naive_bayes import MultinomialNB\n",
    "from sklearn.ensemble import RandomForestClassifier\n",
    "from sklearn.model_selection import KFold\n",
    "from sklearn.model_selection import GridSearchCV\n",
    "from sklearn.model_selection import learning_curve\n",
    "from sklearn.metrics import precision_recall_curve\n",
    "from sklearn.metrics import average_precision_score\n",
    "from sklearn import svm\n",
    "from gensim.models.word2vec import Word2Vec\n",
    "import pickle\n",
    "import warnings\n",
    "warnings.filterwarnings(\"ignore\")"
   ]
  },
  {
   "cell_type": "markdown",
   "metadata": {},
   "source": [
    "Referenced notebooks for Modelling : (other refrences on fake news in notes)\n",
    "\n",
    "https://www.kaggle.com/madz2000/nlp-using-glove-embeddings-99-87-accuracy \n",
    "\n",
    "https://www.kaggle.com/jaskaransingh/fake-news-classification-bert-roberta\n",
    "\n",
    "https://towardsdatascience.com/light-on-math-ml-intuitive-guide-to-understanding-glove-embeddings-b13b4f19c010\n",
    "\n",
    "https://www.kaggle.com/foolofatook/news-classification-using-bert  \n",
    "\n",
    "https://www.kaggle.com/alfarias/huffpost-news-classification-with-distilbert\n",
    "\n",
    "https://github.com/aramakus/ML-and-Data-Analysis/blob/master/RoBERTa%20for%20text%20classification.ipynb\n",
    "\n",
    "https://towardsdatascience.com/fine-tuning-bert-and-roberta-for-high-accuracy-text-classification-in-pytorch-c9e63cf64646\n",
    "\n",
    "https://towardsdatascience.com/fake-news-classification-with-bert-afbeee601f41\n",
    "\n",
    "https://medium.com/swlh/detecting-fake-news-with-python-and-machine-learning-f78421d29a06\n",
    "\n",
    "https://towardsdatascience.com/getting-real-with-fake-news-d4bc033eb38a"
   ]
  },
  {
   "cell_type": "code",
   "execution_count": 2,
   "metadata": {},
   "outputs": [
    {
     "name": "stdout",
     "output_type": "stream",
     "text": [
      "(17326, 8)\n"
     ]
    },
    {
     "data": {
      "text/html": [
       "<div>\n",
       "<style scoped>\n",
       "    .dataframe tbody tr th:only-of-type {\n",
       "        vertical-align: middle;\n",
       "    }\n",
       "\n",
       "    .dataframe tbody tr th {\n",
       "        vertical-align: top;\n",
       "    }\n",
       "\n",
       "    .dataframe thead th {\n",
       "        text-align: right;\n",
       "    }\n",
       "</style>\n",
       "<table border=\"1\" class=\"dataframe\">\n",
       "  <thead>\n",
       "    <tr style=\"text-align: right;\">\n",
       "      <th></th>\n",
       "      <th>id</th>\n",
       "      <th>date</th>\n",
       "      <th>speaker</th>\n",
       "      <th>statement</th>\n",
       "      <th>sources</th>\n",
       "      <th>paragraph_based_content</th>\n",
       "      <th>fullText_based_content</th>\n",
       "      <th>label_fnn</th>\n",
       "    </tr>\n",
       "  </thead>\n",
       "  <tbody>\n",
       "    <tr>\n",
       "      <th>0</th>\n",
       "      <td>1636</td>\n",
       "      <td>2010-03-28T17:45:34-04:00</td>\n",
       "      <td>Charlie Crist</td>\n",
       "      <td>Rubio's tax swap proposal \"would have been a m...</td>\n",
       "      <td>['http://blogs.tampabay.com/buzz/files/040307l...</td>\n",
       "      <td>['Gov. Charlie Crist launched what amounts to ...</td>\n",
       "      <td>Gov. Charlie Crist launched what amounts to a ...</td>\n",
       "      <td>fake</td>\n",
       "    </tr>\n",
       "    <tr>\n",
       "      <th>1</th>\n",
       "      <td>4352</td>\n",
       "      <td>2011-08-29T06:00:00-04:00</td>\n",
       "      <td>Bobby  Scott</td>\n",
       "      <td>\"The estimated savings of this (debt ceiling) ...</td>\n",
       "      <td>['http://www.bobbyscott.house.gov/index.php?op...</td>\n",
       "      <td>['U.S. Rep. Bobby Scott, D-3rd, was not please...</td>\n",
       "      <td>U.S. Rep. Bobby Scott, D-3rd, was not pleased ...</td>\n",
       "      <td>real</td>\n",
       "    </tr>\n",
       "    <tr>\n",
       "      <th>2</th>\n",
       "      <td>16471</td>\n",
       "      <td>2019-02-12T17:35:38-05:00</td>\n",
       "      <td>Wisconsin Republican Legislative leaders</td>\n",
       "      <td>Foxconn has already \"made a positive impact ac...</td>\n",
       "      <td>['https://www.wispolitics.com/2019/sen-fitzger...</td>\n",
       "      <td>[\"Amid reports questioning Foxconn Technology ...</td>\n",
       "      <td>Amid reports questioning Foxconn Technology Gr...</td>\n",
       "      <td>fake</td>\n",
       "    </tr>\n",
       "    <tr>\n",
       "      <th>3</th>\n",
       "      <td>1557</td>\n",
       "      <td>2010-03-05T18:24:02-05:00</td>\n",
       "      <td>Dave Aronberg</td>\n",
       "      <td>Says Gov. Charlie Crist has called him \"a rock...</td>\n",
       "      <td>['http://www.davearonberg.com/about', 'http://...</td>\n",
       "      <td>[\"State Sen. Dave Aronberg, a Democratic candi...</td>\n",
       "      <td>State Sen. Dave Aronberg, a Democratic candida...</td>\n",
       "      <td>real</td>\n",
       "    </tr>\n",
       "    <tr>\n",
       "      <th>4</th>\n",
       "      <td>12826</td>\n",
       "      <td>2016-07-29T18:09:31-04:00</td>\n",
       "      <td>Jeannette Vaught</td>\n",
       "      <td>\"Only five Texas counties account for almost 9...</td>\n",
       "      <td>['http://www.mystatesman.com/news/news/opinion...</td>\n",
       "      <td>['From the citrus of the Rio Grande Valley to ...</td>\n",
       "      <td>From the citrus of the Rio Grande Valley to th...</td>\n",
       "      <td>fake</td>\n",
       "    </tr>\n",
       "  </tbody>\n",
       "</table>\n",
       "</div>"
      ],
      "text/plain": [
       "      id                       date                                   speaker  \\\n",
       "0   1636  2010-03-28T17:45:34-04:00                             Charlie Crist   \n",
       "1   4352  2011-08-29T06:00:00-04:00                              Bobby  Scott   \n",
       "2  16471  2019-02-12T17:35:38-05:00  Wisconsin Republican Legislative leaders   \n",
       "3   1557  2010-03-05T18:24:02-05:00                             Dave Aronberg   \n",
       "4  12826  2016-07-29T18:09:31-04:00                          Jeannette Vaught   \n",
       "\n",
       "                                           statement  \\\n",
       "0  Rubio's tax swap proposal \"would have been a m...   \n",
       "1  \"The estimated savings of this (debt ceiling) ...   \n",
       "2  Foxconn has already \"made a positive impact ac...   \n",
       "3  Says Gov. Charlie Crist has called him \"a rock...   \n",
       "4  \"Only five Texas counties account for almost 9...   \n",
       "\n",
       "                                             sources  \\\n",
       "0  ['http://blogs.tampabay.com/buzz/files/040307l...   \n",
       "1  ['http://www.bobbyscott.house.gov/index.php?op...   \n",
       "2  ['https://www.wispolitics.com/2019/sen-fitzger...   \n",
       "3  ['http://www.davearonberg.com/about', 'http://...   \n",
       "4  ['http://www.mystatesman.com/news/news/opinion...   \n",
       "\n",
       "                             paragraph_based_content  \\\n",
       "0  ['Gov. Charlie Crist launched what amounts to ...   \n",
       "1  ['U.S. Rep. Bobby Scott, D-3rd, was not please...   \n",
       "2  [\"Amid reports questioning Foxconn Technology ...   \n",
       "3  [\"State Sen. Dave Aronberg, a Democratic candi...   \n",
       "4  ['From the citrus of the Rio Grande Valley to ...   \n",
       "\n",
       "                              fullText_based_content label_fnn  \n",
       "0  Gov. Charlie Crist launched what amounts to a ...      fake  \n",
       "1  U.S. Rep. Bobby Scott, D-3rd, was not pleased ...      real  \n",
       "2  Amid reports questioning Foxconn Technology Gr...      fake  \n",
       "3  State Sen. Dave Aronberg, a Democratic candida...      real  \n",
       "4  From the citrus of the Rio Grande Valley to th...      fake  "
      ]
     },
     "execution_count": 2,
     "metadata": {},
     "output_type": "execute_result"
    }
   ],
   "source": [
    "df = pd.read_csv(\"/Users/gopalika14/Desktop/fakenn.csv\")\n",
    "print(df.shape)\n",
    "df.head()"
   ]
  },
  {
   "cell_type": "code",
   "execution_count": 3,
   "metadata": {
    "scrolled": true
   },
   "outputs": [
    {
     "data": {
      "text/html": [
       "<div>\n",
       "<style scoped>\n",
       "    .dataframe tbody tr th:only-of-type {\n",
       "        vertical-align: middle;\n",
       "    }\n",
       "\n",
       "    .dataframe tbody tr th {\n",
       "        vertical-align: top;\n",
       "    }\n",
       "\n",
       "    .dataframe thead th {\n",
       "        text-align: right;\n",
       "    }\n",
       "</style>\n",
       "<table border=\"1\" class=\"dataframe\">\n",
       "  <thead>\n",
       "    <tr style=\"text-align: right;\">\n",
       "      <th></th>\n",
       "      <th>id</th>\n",
       "      <th>speaker</th>\n",
       "      <th>statement</th>\n",
       "      <th>sources</th>\n",
       "      <th>paragraph_based_content</th>\n",
       "      <th>fullText_based_content</th>\n",
       "      <th>label_fnn</th>\n",
       "      <th>DATE</th>\n",
       "      <th>MONTH</th>\n",
       "      <th>year</th>\n",
       "    </tr>\n",
       "  </thead>\n",
       "  <tbody>\n",
       "    <tr>\n",
       "      <th>0</th>\n",
       "      <td>1636</td>\n",
       "      <td>Charlie Crist</td>\n",
       "      <td>Rubio's tax swap proposal \"would have been a m...</td>\n",
       "      <td>['http://blogs.tampabay.com/buzz/files/040307l...</td>\n",
       "      <td>['Gov. Charlie Crist launched what amounts to ...</td>\n",
       "      <td>Gov. Charlie Crist launched what amounts to a ...</td>\n",
       "      <td>fake</td>\n",
       "      <td>2010-03-28 21:45:34+00:00</td>\n",
       "      <td>3.0</td>\n",
       "      <td>2010.0</td>\n",
       "    </tr>\n",
       "    <tr>\n",
       "      <th>1</th>\n",
       "      <td>4352</td>\n",
       "      <td>Bobby  Scott</td>\n",
       "      <td>\"The estimated savings of this (debt ceiling) ...</td>\n",
       "      <td>['http://www.bobbyscott.house.gov/index.php?op...</td>\n",
       "      <td>['U.S. Rep. Bobby Scott, D-3rd, was not please...</td>\n",
       "      <td>U.S. Rep. Bobby Scott, D-3rd, was not pleased ...</td>\n",
       "      <td>real</td>\n",
       "      <td>2011-08-29 10:00:00+00:00</td>\n",
       "      <td>8.0</td>\n",
       "      <td>2011.0</td>\n",
       "    </tr>\n",
       "    <tr>\n",
       "      <th>2</th>\n",
       "      <td>16471</td>\n",
       "      <td>Wisconsin Republican Legislative leaders</td>\n",
       "      <td>Foxconn has already \"made a positive impact ac...</td>\n",
       "      <td>['https://www.wispolitics.com/2019/sen-fitzger...</td>\n",
       "      <td>[\"Amid reports questioning Foxconn Technology ...</td>\n",
       "      <td>Amid reports questioning Foxconn Technology Gr...</td>\n",
       "      <td>fake</td>\n",
       "      <td>2019-02-12 22:35:38+00:00</td>\n",
       "      <td>2.0</td>\n",
       "      <td>2019.0</td>\n",
       "    </tr>\n",
       "    <tr>\n",
       "      <th>3</th>\n",
       "      <td>1557</td>\n",
       "      <td>Dave Aronberg</td>\n",
       "      <td>Says Gov. Charlie Crist has called him \"a rock...</td>\n",
       "      <td>['http://www.davearonberg.com/about', 'http://...</td>\n",
       "      <td>[\"State Sen. Dave Aronberg, a Democratic candi...</td>\n",
       "      <td>State Sen. Dave Aronberg, a Democratic candida...</td>\n",
       "      <td>real</td>\n",
       "      <td>2010-03-05 23:24:02+00:00</td>\n",
       "      <td>3.0</td>\n",
       "      <td>2010.0</td>\n",
       "    </tr>\n",
       "    <tr>\n",
       "      <th>4</th>\n",
       "      <td>12826</td>\n",
       "      <td>Jeannette Vaught</td>\n",
       "      <td>\"Only five Texas counties account for almost 9...</td>\n",
       "      <td>['http://www.mystatesman.com/news/news/opinion...</td>\n",
       "      <td>['From the citrus of the Rio Grande Valley to ...</td>\n",
       "      <td>From the citrus of the Rio Grande Valley to th...</td>\n",
       "      <td>fake</td>\n",
       "      <td>2016-07-29 22:09:31+00:00</td>\n",
       "      <td>7.0</td>\n",
       "      <td>2016.0</td>\n",
       "    </tr>\n",
       "  </tbody>\n",
       "</table>\n",
       "</div>"
      ],
      "text/plain": [
       "      id                                   speaker  \\\n",
       "0   1636                             Charlie Crist   \n",
       "1   4352                              Bobby  Scott   \n",
       "2  16471  Wisconsin Republican Legislative leaders   \n",
       "3   1557                             Dave Aronberg   \n",
       "4  12826                          Jeannette Vaught   \n",
       "\n",
       "                                           statement  \\\n",
       "0  Rubio's tax swap proposal \"would have been a m...   \n",
       "1  \"The estimated savings of this (debt ceiling) ...   \n",
       "2  Foxconn has already \"made a positive impact ac...   \n",
       "3  Says Gov. Charlie Crist has called him \"a rock...   \n",
       "4  \"Only five Texas counties account for almost 9...   \n",
       "\n",
       "                                             sources  \\\n",
       "0  ['http://blogs.tampabay.com/buzz/files/040307l...   \n",
       "1  ['http://www.bobbyscott.house.gov/index.php?op...   \n",
       "2  ['https://www.wispolitics.com/2019/sen-fitzger...   \n",
       "3  ['http://www.davearonberg.com/about', 'http://...   \n",
       "4  ['http://www.mystatesman.com/news/news/opinion...   \n",
       "\n",
       "                             paragraph_based_content  \\\n",
       "0  ['Gov. Charlie Crist launched what amounts to ...   \n",
       "1  ['U.S. Rep. Bobby Scott, D-3rd, was not please...   \n",
       "2  [\"Amid reports questioning Foxconn Technology ...   \n",
       "3  [\"State Sen. Dave Aronberg, a Democratic candi...   \n",
       "4  ['From the citrus of the Rio Grande Valley to ...   \n",
       "\n",
       "                              fullText_based_content label_fnn  \\\n",
       "0  Gov. Charlie Crist launched what amounts to a ...      fake   \n",
       "1  U.S. Rep. Bobby Scott, D-3rd, was not pleased ...      real   \n",
       "2  Amid reports questioning Foxconn Technology Gr...      fake   \n",
       "3  State Sen. Dave Aronberg, a Democratic candida...      real   \n",
       "4  From the citrus of the Rio Grande Valley to th...      fake   \n",
       "\n",
       "                       DATE  MONTH    year  \n",
       "0 2010-03-28 21:45:34+00:00    3.0  2010.0  \n",
       "1 2011-08-29 10:00:00+00:00    8.0  2011.0  \n",
       "2 2019-02-12 22:35:38+00:00    2.0  2019.0  \n",
       "3 2010-03-05 23:24:02+00:00    3.0  2010.0  \n",
       "4 2016-07-29 22:09:31+00:00    7.0  2016.0  "
      ]
     },
     "execution_count": 3,
     "metadata": {},
     "output_type": "execute_result"
    }
   ],
   "source": [
    "df['DATE'] = pd.to_datetime(df['date'],utc=True, errors='coerce')\n",
    "df['MONTH'] = df['DATE'].dt.month\n",
    "df['year'] = df['DATE'].dt.year\n",
    "df = df.drop([\"date\"], axis =1)\n",
    "indexNames = df[ df['label_fnn'] == \"label_fnn\" ].index\n",
    "# Delete these row indexes from dataFrame\n",
    "df.drop(indexNames , inplace=True)\n",
    "df.head()"
   ]
  },
  {
   "cell_type": "code",
   "execution_count": 4,
   "metadata": {},
   "outputs": [
    {
     "data": {
      "text/html": [
       "<div>\n",
       "<style scoped>\n",
       "    .dataframe tbody tr th:only-of-type {\n",
       "        vertical-align: middle;\n",
       "    }\n",
       "\n",
       "    .dataframe tbody tr th {\n",
       "        vertical-align: top;\n",
       "    }\n",
       "\n",
       "    .dataframe thead th {\n",
       "        text-align: right;\n",
       "    }\n",
       "</style>\n",
       "<table border=\"1\" class=\"dataframe\">\n",
       "  <thead>\n",
       "    <tr style=\"text-align: right;\">\n",
       "      <th></th>\n",
       "      <th>id</th>\n",
       "      <th>speaker</th>\n",
       "      <th>statement</th>\n",
       "      <th>sources</th>\n",
       "      <th>paragraph_based_content</th>\n",
       "      <th>fullText_based_content</th>\n",
       "      <th>label_fnn</th>\n",
       "      <th>DATE</th>\n",
       "      <th>MONTH</th>\n",
       "      <th>year</th>\n",
       "    </tr>\n",
       "  </thead>\n",
       "  <tbody>\n",
       "    <tr>\n",
       "      <th>0</th>\n",
       "      <td>1636</td>\n",
       "      <td>Charlie Crist</td>\n",
       "      <td>Rubio's tax swap proposal would have been a ma...</td>\n",
       "      <td>http://blogs.tampabay.com/buzz/files/040307lt-...</td>\n",
       "      <td>Gov. Charlie Crist launched what amounts to a ...</td>\n",
       "      <td>Gov. Charlie Crist launched what amounts to a ...</td>\n",
       "      <td>fake</td>\n",
       "      <td>2010-03-28 21:45:34+00:00</td>\n",
       "      <td>3.0</td>\n",
       "      <td>2010.0</td>\n",
       "    </tr>\n",
       "    <tr>\n",
       "      <th>1</th>\n",
       "      <td>4352</td>\n",
       "      <td>Bobby  Scott</td>\n",
       "      <td>The estimated savings of this (debt ceiling) d...</td>\n",
       "      <td>http://www.bobbyscott.house.gov/index.php?opti...</td>\n",
       "      <td>U.S. Rep. Bobby Scott, D-3rd, was not pleased ...</td>\n",
       "      <td>U.S. Rep. Bobby Scott, D-3rd, was not pleased ...</td>\n",
       "      <td>real</td>\n",
       "      <td>2011-08-29 10:00:00+00:00</td>\n",
       "      <td>8.0</td>\n",
       "      <td>2011.0</td>\n",
       "    </tr>\n",
       "    <tr>\n",
       "      <th>2</th>\n",
       "      <td>16471</td>\n",
       "      <td>Wisconsin Republican Legislative leaders</td>\n",
       "      <td>Foxconn has already made a positive impact acr...</td>\n",
       "      <td>https://www.wispolitics.com/2019/sen-fitzgeral...</td>\n",
       "      <td>Amid reports questioning Foxconn Technology Gr...</td>\n",
       "      <td>Amid reports questioning Foxconn Technology Gr...</td>\n",
       "      <td>fake</td>\n",
       "      <td>2019-02-12 22:35:38+00:00</td>\n",
       "      <td>2.0</td>\n",
       "      <td>2019.0</td>\n",
       "    </tr>\n",
       "    <tr>\n",
       "      <th>3</th>\n",
       "      <td>1557</td>\n",
       "      <td>Dave Aronberg</td>\n",
       "      <td>Says Gov. Charlie Crist has called him a rock ...</td>\n",
       "      <td>http://www.davearonberg.com/about, http://miam...</td>\n",
       "      <td>State Sen. Dave Aronberg, a Democratic candida...</td>\n",
       "      <td>State Sen. Dave Aronberg, a Democratic candida...</td>\n",
       "      <td>real</td>\n",
       "      <td>2010-03-05 23:24:02+00:00</td>\n",
       "      <td>3.0</td>\n",
       "      <td>2010.0</td>\n",
       "    </tr>\n",
       "    <tr>\n",
       "      <th>4</th>\n",
       "      <td>12826</td>\n",
       "      <td>Jeannette Vaught</td>\n",
       "      <td>Only five Texas counties account for almost 90...</td>\n",
       "      <td>http://www.mystatesman.com/news/news/opinion/v...</td>\n",
       "      <td>From the citrus of the Rio Grande Valley to th...</td>\n",
       "      <td>From the citrus of the Rio Grande Valley to th...</td>\n",
       "      <td>fake</td>\n",
       "      <td>2016-07-29 22:09:31+00:00</td>\n",
       "      <td>7.0</td>\n",
       "      <td>2016.0</td>\n",
       "    </tr>\n",
       "  </tbody>\n",
       "</table>\n",
       "</div>"
      ],
      "text/plain": [
       "      id                                   speaker  \\\n",
       "0   1636                             Charlie Crist   \n",
       "1   4352                              Bobby  Scott   \n",
       "2  16471  Wisconsin Republican Legislative leaders   \n",
       "3   1557                             Dave Aronberg   \n",
       "4  12826                          Jeannette Vaught   \n",
       "\n",
       "                                           statement  \\\n",
       "0  Rubio's tax swap proposal would have been a ma...   \n",
       "1  The estimated savings of this (debt ceiling) d...   \n",
       "2  Foxconn has already made a positive impact acr...   \n",
       "3  Says Gov. Charlie Crist has called him a rock ...   \n",
       "4  Only five Texas counties account for almost 90...   \n",
       "\n",
       "                                             sources  \\\n",
       "0  http://blogs.tampabay.com/buzz/files/040307lt-...   \n",
       "1  http://www.bobbyscott.house.gov/index.php?opti...   \n",
       "2  https://www.wispolitics.com/2019/sen-fitzgeral...   \n",
       "3  http://www.davearonberg.com/about, http://miam...   \n",
       "4  http://www.mystatesman.com/news/news/opinion/v...   \n",
       "\n",
       "                             paragraph_based_content  \\\n",
       "0  Gov. Charlie Crist launched what amounts to a ...   \n",
       "1  U.S. Rep. Bobby Scott, D-3rd, was not pleased ...   \n",
       "2  Amid reports questioning Foxconn Technology Gr...   \n",
       "3  State Sen. Dave Aronberg, a Democratic candida...   \n",
       "4  From the citrus of the Rio Grande Valley to th...   \n",
       "\n",
       "                              fullText_based_content label_fnn  \\\n",
       "0  Gov. Charlie Crist launched what amounts to a ...      fake   \n",
       "1  U.S. Rep. Bobby Scott, D-3rd, was not pleased ...      real   \n",
       "2  Amid reports questioning Foxconn Technology Gr...      fake   \n",
       "3  State Sen. Dave Aronberg, a Democratic candida...      real   \n",
       "4  From the citrus of the Rio Grande Valley to th...      fake   \n",
       "\n",
       "                       DATE  MONTH    year  \n",
       "0 2010-03-28 21:45:34+00:00    3.0  2010.0  \n",
       "1 2011-08-29 10:00:00+00:00    8.0  2011.0  \n",
       "2 2019-02-12 22:35:38+00:00    2.0  2019.0  \n",
       "3 2010-03-05 23:24:02+00:00    3.0  2010.0  \n",
       "4 2016-07-29 22:09:31+00:00    7.0  2016.0  "
      ]
     },
     "execution_count": 4,
     "metadata": {},
     "output_type": "execute_result"
    }
   ],
   "source": [
    "#for square brackets and airqoutes removal\n",
    "df['sources'] = df['sources'].apply(lambda x: x.replace('[','').replace(']',''))\n",
    "df['paragraph_based_content'] = df['paragraph_based_content'].apply(lambda x: x.replace('[','').replace(']',''))\n",
    "df['statement'] = df['statement'].apply(lambda x: x.replace('\"', ''))\n",
    "df['sources'] = df['sources'].str.replace(\"'\" , \"\" )\n",
    "df['paragraph_based_content'] = df['paragraph_based_content'].str.replace(\"'\" , \"\" )\n",
    "df['paragraph_based_content'] = df['paragraph_based_content'].apply(lambda x: x.replace('\"', ''))\n",
    "df.head()"
   ]
  },
  {
   "cell_type": "markdown",
   "metadata": {},
   "source": [
    "# BASIC MODELLING - Full based content"
   ]
  },
  {
   "cell_type": "code",
   "execution_count": 5,
   "metadata": {},
   "outputs": [],
   "source": [
    "X=df['fullText_based_content']\n",
    "y=df['label_fnn']"
   ]
  },
  {
   "cell_type": "code",
   "execution_count": 6,
   "metadata": {},
   "outputs": [],
   "source": [
    "X_train, X_test, y_train, y_test = train_test_split(X, y, test_size=0.2, random_state=42)"
   ]
  },
  {
   "cell_type": "code",
   "execution_count": 7,
   "metadata": {},
   "outputs": [],
   "source": [
    "#Random Forest Classifier\n",
    "pp=Pipeline([\n",
    "    ('bow',CountVectorizer()),\n",
    "    ('tfidf',TfidfTransformer()),\n",
    "    ('classifier',RandomForestClassifier())\n",
    "    ])"
   ]
  },
  {
   "cell_type": "code",
   "execution_count": 8,
   "metadata": {},
   "outputs": [
    {
     "data": {
      "text/plain": [
       "Pipeline(steps=[('bow', CountVectorizer()), ('tfidf', TfidfTransformer()),\n",
       "                ('classifier', RandomForestClassifier())])"
      ]
     },
     "execution_count": 8,
     "metadata": {},
     "output_type": "execute_result"
    }
   ],
   "source": [
    "pp.fit(X_train,y_train)"
   ]
  },
  {
   "cell_type": "code",
   "execution_count": 9,
   "metadata": {},
   "outputs": [],
   "source": [
    "predictions=pp.predict(X_test)"
   ]
  },
  {
   "cell_type": "code",
   "execution_count": 10,
   "metadata": {},
   "outputs": [
    {
     "name": "stdout",
     "output_type": "stream",
     "text": [
      "[[1018  674]\n",
      " [ 376 1397]]\n",
      "\n",
      "\n",
      "              precision    recall  f1-score   support\n",
      "\n",
      "        fake       0.73      0.60      0.66      1692\n",
      "        real       0.67      0.79      0.73      1773\n",
      "\n",
      "    accuracy                           0.70      3465\n",
      "   macro avg       0.70      0.69      0.69      3465\n",
      "weighted avg       0.70      0.70      0.69      3465\n",
      "\n"
     ]
    }
   ],
   "source": [
    "print(confusion_matrix(y_test, predictions))\n",
    "print('\\n')\n",
    "print(classification_report(y_test, predictions))"
   ]
  },
  {
   "cell_type": "code",
   "execution_count": 11,
   "metadata": {},
   "outputs": [],
   "source": [
    "#Multinomial Naive Bayes\n",
    "pp2=Pipeline([\n",
    "    ('bow',CountVectorizer()),\n",
    "    ('tfidf',TfidfTransformer()),\n",
    "    ('classifier',MultinomialNB())\n",
    "    ])"
   ]
  },
  {
   "cell_type": "code",
   "execution_count": 12,
   "metadata": {},
   "outputs": [
    {
     "data": {
      "text/plain": [
       "Pipeline(steps=[('bow', CountVectorizer()), ('tfidf', TfidfTransformer()),\n",
       "                ('classifier', MultinomialNB())])"
      ]
     },
     "execution_count": 12,
     "metadata": {},
     "output_type": "execute_result"
    }
   ],
   "source": [
    "pp2.fit(X_train,y_train)"
   ]
  },
  {
   "cell_type": "code",
   "execution_count": 13,
   "metadata": {},
   "outputs": [],
   "source": [
    "predictions2=pp2.predict(X_test)"
   ]
  },
  {
   "cell_type": "code",
   "execution_count": 14,
   "metadata": {},
   "outputs": [
    {
     "name": "stdout",
     "output_type": "stream",
     "text": [
      "[[ 837  855]\n",
      " [ 292 1481]]\n",
      "\n",
      "\n",
      "              precision    recall  f1-score   support\n",
      "\n",
      "        fake       0.74      0.49      0.59      1692\n",
      "        real       0.63      0.84      0.72      1773\n",
      "\n",
      "    accuracy                           0.67      3465\n",
      "   macro avg       0.69      0.66      0.66      3465\n",
      "weighted avg       0.69      0.67      0.66      3465\n",
      "\n"
     ]
    }
   ],
   "source": [
    "print(confusion_matrix(y_test, predictions2))\n",
    "print('\\n')\n",
    "print(classification_report(y_test, predictions2))"
   ]
  },
  {
   "cell_type": "code",
   "execution_count": 15,
   "metadata": {},
   "outputs": [],
   "source": [
    "#passive-aggresive classifier\n",
    "from sklearn.linear_model import PassiveAggressiveClassifier\n",
    "pp3=Pipeline([\n",
    "    ('bow',CountVectorizer()),\n",
    "    ('tfidf',TfidfTransformer()),\n",
    "    ('classifier',PassiveAggressiveClassifier())\n",
    "    ])"
   ]
  },
  {
   "cell_type": "code",
   "execution_count": 16,
   "metadata": {},
   "outputs": [
    {
     "data": {
      "text/plain": [
       "Pipeline(steps=[('bow', CountVectorizer()), ('tfidf', TfidfTransformer()),\n",
       "                ('classifier', PassiveAggressiveClassifier())])"
      ]
     },
     "execution_count": 16,
     "metadata": {},
     "output_type": "execute_result"
    }
   ],
   "source": [
    "pp3.fit(X_train,y_train)"
   ]
  },
  {
   "cell_type": "code",
   "execution_count": 17,
   "metadata": {},
   "outputs": [],
   "source": [
    "predictions3=pp3.predict(X_test)"
   ]
  },
  {
   "cell_type": "code",
   "execution_count": 18,
   "metadata": {},
   "outputs": [
    {
     "name": "stdout",
     "output_type": "stream",
     "text": [
      "[[1118  574]\n",
      " [ 557 1216]]\n",
      "\n",
      "\n",
      "              precision    recall  f1-score   support\n",
      "\n",
      "        fake       0.67      0.66      0.66      1692\n",
      "        real       0.68      0.69      0.68      1773\n",
      "\n",
      "    accuracy                           0.67      3465\n",
      "   macro avg       0.67      0.67      0.67      3465\n",
      "weighted avg       0.67      0.67      0.67      3465\n",
      "\n"
     ]
    }
   ],
   "source": [
    "print(confusion_matrix(y_test, predictions3))\n",
    "print('\\n')\n",
    "print(classification_report(y_test, predictions3))"
   ]
  },
  {
   "cell_type": "code",
   "execution_count": 19,
   "metadata": {},
   "outputs": [],
   "source": [
    "#logistic regression\n",
    "pp4=Pipeline([\n",
    "    ('bow',CountVectorizer()),\n",
    "    ('tfidf',TfidfTransformer()),\n",
    "    ('classifier',LogisticRegression())\n",
    "    ])"
   ]
  },
  {
   "cell_type": "code",
   "execution_count": 20,
   "metadata": {},
   "outputs": [
    {
     "data": {
      "text/plain": [
       "Pipeline(steps=[('bow', CountVectorizer()), ('tfidf', TfidfTransformer()),\n",
       "                ('classifier', LogisticRegression())])"
      ]
     },
     "execution_count": 20,
     "metadata": {},
     "output_type": "execute_result"
    }
   ],
   "source": [
    "pp4.fit(X_train,y_train)"
   ]
  },
  {
   "cell_type": "code",
   "execution_count": 21,
   "metadata": {},
   "outputs": [],
   "source": [
    "predictions4=pp4.predict(X_test)"
   ]
  },
  {
   "cell_type": "code",
   "execution_count": 22,
   "metadata": {},
   "outputs": [
    {
     "name": "stdout",
     "output_type": "stream",
     "text": [
      "[[1086  606]\n",
      " [ 406 1367]]\n",
      "\n",
      "\n",
      "              precision    recall  f1-score   support\n",
      "\n",
      "        fake       0.73      0.64      0.68      1692\n",
      "        real       0.69      0.77      0.73      1773\n",
      "\n",
      "    accuracy                           0.71      3465\n",
      "   macro avg       0.71      0.71      0.71      3465\n",
      "weighted avg       0.71      0.71      0.71      3465\n",
      "\n"
     ]
    }
   ],
   "source": [
    "print(confusion_matrix(y_test, predictions4))\n",
    "print('\\n')\n",
    "print(classification_report(y_test, predictions4))"
   ]
  },
  {
   "cell_type": "code",
   "execution_count": 58,
   "metadata": {},
   "outputs": [],
   "source": [
    "#SVM was taking a lot of time with not significant value"
   ]
  },
  {
   "cell_type": "markdown",
   "metadata": {},
   "source": [
    "# BASIC MODELLING - Statement"
   ]
  },
  {
   "cell_type": "code",
   "execution_count": 23,
   "metadata": {},
   "outputs": [],
   "source": [
    "X=df['statement']\n",
    "y=df['label_fnn']\n",
    "X_train, X_test, y_train, y_test = train_test_split(X, y, test_size=0.2, random_state=42)"
   ]
  },
  {
   "cell_type": "code",
   "execution_count": 24,
   "metadata": {},
   "outputs": [],
   "source": [
    "#Random Forest Classifier\n",
    "pp=Pipeline([\n",
    "    ('bow',CountVectorizer()),\n",
    "    ('tfidf',TfidfTransformer()),\n",
    "    ('classifier',RandomForestClassifier())\n",
    "    ])"
   ]
  },
  {
   "cell_type": "code",
   "execution_count": 25,
   "metadata": {},
   "outputs": [
    {
     "data": {
      "text/plain": [
       "Pipeline(steps=[('bow', CountVectorizer()), ('tfidf', TfidfTransformer()),\n",
       "                ('classifier', RandomForestClassifier())])"
      ]
     },
     "execution_count": 25,
     "metadata": {},
     "output_type": "execute_result"
    }
   ],
   "source": [
    "pp.fit(X_train,y_train)"
   ]
  },
  {
   "cell_type": "code",
   "execution_count": 26,
   "metadata": {},
   "outputs": [],
   "source": [
    "predictions=pp.predict(X_test)"
   ]
  },
  {
   "cell_type": "code",
   "execution_count": 27,
   "metadata": {},
   "outputs": [
    {
     "name": "stdout",
     "output_type": "stream",
     "text": [
      "[[1041  651]\n",
      " [ 592 1181]]\n",
      "\n",
      "\n",
      "              precision    recall  f1-score   support\n",
      "\n",
      "        fake       0.64      0.62      0.63      1692\n",
      "        real       0.64      0.67      0.66      1773\n",
      "\n",
      "    accuracy                           0.64      3465\n",
      "   macro avg       0.64      0.64      0.64      3465\n",
      "weighted avg       0.64      0.64      0.64      3465\n",
      "\n"
     ]
    }
   ],
   "source": [
    "print(confusion_matrix(y_test, predictions))\n",
    "print('\\n')\n",
    "print(classification_report(y_test, predictions))"
   ]
  },
  {
   "cell_type": "code",
   "execution_count": 28,
   "metadata": {},
   "outputs": [],
   "source": [
    "#Multinomial Naive Bayes\n",
    "pp2=Pipeline([\n",
    "    ('bow',CountVectorizer()),\n",
    "    ('tfidf',TfidfTransformer()),\n",
    "    ('classifier',MultinomialNB())\n",
    "    ])"
   ]
  },
  {
   "cell_type": "code",
   "execution_count": 29,
   "metadata": {},
   "outputs": [
    {
     "data": {
      "text/plain": [
       "Pipeline(steps=[('bow', CountVectorizer()), ('tfidf', TfidfTransformer()),\n",
       "                ('classifier', MultinomialNB())])"
      ]
     },
     "execution_count": 29,
     "metadata": {},
     "output_type": "execute_result"
    }
   ],
   "source": [
    "pp2.fit(X_train,y_train)"
   ]
  },
  {
   "cell_type": "code",
   "execution_count": 30,
   "metadata": {},
   "outputs": [],
   "source": [
    "predictions2=pp2.predict(X_test)"
   ]
  },
  {
   "cell_type": "code",
   "execution_count": 31,
   "metadata": {},
   "outputs": [
    {
     "name": "stdout",
     "output_type": "stream",
     "text": [
      "[[ 887  805]\n",
      " [ 420 1353]]\n",
      "\n",
      "\n",
      "              precision    recall  f1-score   support\n",
      "\n",
      "        fake       0.68      0.52      0.59      1692\n",
      "        real       0.63      0.76      0.69      1773\n",
      "\n",
      "    accuracy                           0.65      3465\n",
      "   macro avg       0.65      0.64      0.64      3465\n",
      "weighted avg       0.65      0.65      0.64      3465\n",
      "\n"
     ]
    }
   ],
   "source": [
    "print(confusion_matrix(y_test, predictions2))\n",
    "print('\\n')\n",
    "print(classification_report(y_test, predictions2))"
   ]
  },
  {
   "cell_type": "code",
   "execution_count": 32,
   "metadata": {},
   "outputs": [],
   "source": [
    "#passive-aggresive classifier\n",
    "from sklearn.linear_model import PassiveAggressiveClassifier\n",
    "pp3=Pipeline([\n",
    "    ('bow',CountVectorizer()),\n",
    "    ('tfidf',TfidfTransformer()),\n",
    "    ('classifier',PassiveAggressiveClassifier())\n",
    "    ])"
   ]
  },
  {
   "cell_type": "code",
   "execution_count": 33,
   "metadata": {},
   "outputs": [
    {
     "data": {
      "text/plain": [
       "Pipeline(steps=[('bow', CountVectorizer()), ('tfidf', TfidfTransformer()),\n",
       "                ('classifier', PassiveAggressiveClassifier())])"
      ]
     },
     "execution_count": 33,
     "metadata": {},
     "output_type": "execute_result"
    }
   ],
   "source": [
    "pp3.fit(X_train,y_train)"
   ]
  },
  {
   "cell_type": "code",
   "execution_count": 34,
   "metadata": {},
   "outputs": [],
   "source": [
    "predictions3=pp3.predict(X_test)"
   ]
  },
  {
   "cell_type": "code",
   "execution_count": 35,
   "metadata": {},
   "outputs": [
    {
     "name": "stdout",
     "output_type": "stream",
     "text": [
      "[[ 955  737]\n",
      " [ 697 1076]]\n",
      "\n",
      "\n",
      "              precision    recall  f1-score   support\n",
      "\n",
      "        fake       0.58      0.56      0.57      1692\n",
      "        real       0.59      0.61      0.60      1773\n",
      "\n",
      "    accuracy                           0.59      3465\n",
      "   macro avg       0.59      0.59      0.59      3465\n",
      "weighted avg       0.59      0.59      0.59      3465\n",
      "\n"
     ]
    }
   ],
   "source": [
    "print(confusion_matrix(y_test, predictions3))\n",
    "print('\\n')\n",
    "print(classification_report(y_test, predictions3))"
   ]
  },
  {
   "cell_type": "code",
   "execution_count": 36,
   "metadata": {},
   "outputs": [],
   "source": [
    "#logistic regression\n",
    "pp4=Pipeline([\n",
    "    ('bow',CountVectorizer()),\n",
    "    ('tfidf',TfidfTransformer()),\n",
    "    ('classifier',LogisticRegression())\n",
    "    ])"
   ]
  },
  {
   "cell_type": "code",
   "execution_count": 37,
   "metadata": {},
   "outputs": [
    {
     "data": {
      "text/plain": [
       "Pipeline(steps=[('bow', CountVectorizer()), ('tfidf', TfidfTransformer()),\n",
       "                ('classifier', LogisticRegression())])"
      ]
     },
     "execution_count": 37,
     "metadata": {},
     "output_type": "execute_result"
    }
   ],
   "source": [
    "pp4.fit(X_train,y_train)"
   ]
  },
  {
   "cell_type": "code",
   "execution_count": 38,
   "metadata": {},
   "outputs": [],
   "source": [
    "predictions4=pp4.predict(X_test)"
   ]
  },
  {
   "cell_type": "code",
   "execution_count": 39,
   "metadata": {},
   "outputs": [
    {
     "name": "stdout",
     "output_type": "stream",
     "text": [
      "[[1058  634]\n",
      " [ 599 1174]]\n",
      "\n",
      "\n",
      "              precision    recall  f1-score   support\n",
      "\n",
      "        fake       0.64      0.63      0.63      1692\n",
      "        real       0.65      0.66      0.66      1773\n",
      "\n",
      "    accuracy                           0.64      3465\n",
      "   macro avg       0.64      0.64      0.64      3465\n",
      "weighted avg       0.64      0.64      0.64      3465\n",
      "\n"
     ]
    }
   ],
   "source": [
    "print(confusion_matrix(y_test, predictions4))\n",
    "print('\\n')\n",
    "print(classification_report(y_test, predictions4))"
   ]
  },
  {
   "cell_type": "markdown",
   "metadata": {},
   "source": [
    "# BASIC MODELLING - Statement+full text"
   ]
  },
  {
   "cell_type": "code",
   "execution_count": 40,
   "metadata": {},
   "outputs": [],
   "source": [
    "df['all'] = df['fullText_based_content'] + \" \" + df['statement']\n"
   ]
  },
  {
   "cell_type": "code",
   "execution_count": 41,
   "metadata": {},
   "outputs": [],
   "source": [
    "X=df['all']\n",
    "y=df['label_fnn']\n",
    "X_train, X_test, y_train, y_test = train_test_split(X, y, test_size=0.2, random_state=42)"
   ]
  },
  {
   "cell_type": "code",
   "execution_count": 42,
   "metadata": {},
   "outputs": [],
   "source": [
    "#Random Forest Classifier\n",
    "pp=Pipeline([\n",
    "    ('bow',CountVectorizer()),\n",
    "    ('tfidf',TfidfTransformer()),\n",
    "    ('classifier',RandomForestClassifier())\n",
    "    ])"
   ]
  },
  {
   "cell_type": "code",
   "execution_count": 43,
   "metadata": {},
   "outputs": [
    {
     "data": {
      "text/plain": [
       "Pipeline(steps=[('bow', CountVectorizer()), ('tfidf', TfidfTransformer()),\n",
       "                ('classifier', RandomForestClassifier())])"
      ]
     },
     "execution_count": 43,
     "metadata": {},
     "output_type": "execute_result"
    }
   ],
   "source": [
    "pp.fit(X_train,y_train)"
   ]
  },
  {
   "cell_type": "code",
   "execution_count": 44,
   "metadata": {},
   "outputs": [],
   "source": [
    "predictions=pp.predict(X_test)"
   ]
  },
  {
   "cell_type": "code",
   "execution_count": 45,
   "metadata": {},
   "outputs": [
    {
     "name": "stdout",
     "output_type": "stream",
     "text": [
      "[[1022  670]\n",
      " [ 414 1359]]\n",
      "\n",
      "\n",
      "              precision    recall  f1-score   support\n",
      "\n",
      "        fake       0.71      0.60      0.65      1692\n",
      "        real       0.67      0.77      0.71      1773\n",
      "\n",
      "    accuracy                           0.69      3465\n",
      "   macro avg       0.69      0.69      0.68      3465\n",
      "weighted avg       0.69      0.69      0.68      3465\n",
      "\n"
     ]
    }
   ],
   "source": [
    "print(confusion_matrix(y_test, predictions))\n",
    "print('\\n')\n",
    "print(classification_report(y_test, predictions))"
   ]
  },
  {
   "cell_type": "code",
   "execution_count": 46,
   "metadata": {},
   "outputs": [],
   "source": [
    "#Multinomial Naive Bayes\n",
    "pp2=Pipeline([\n",
    "    ('bow',CountVectorizer()),\n",
    "    ('tfidf',TfidfTransformer()),\n",
    "    ('classifier',MultinomialNB())\n",
    "    ])"
   ]
  },
  {
   "cell_type": "code",
   "execution_count": 47,
   "metadata": {},
   "outputs": [
    {
     "data": {
      "text/plain": [
       "Pipeline(steps=[('bow', CountVectorizer()), ('tfidf', TfidfTransformer()),\n",
       "                ('classifier', MultinomialNB())])"
      ]
     },
     "execution_count": 47,
     "metadata": {},
     "output_type": "execute_result"
    }
   ],
   "source": [
    "pp2.fit(X_train,y_train)"
   ]
  },
  {
   "cell_type": "code",
   "execution_count": 48,
   "metadata": {},
   "outputs": [],
   "source": [
    "predictions2=pp2.predict(X_test)"
   ]
  },
  {
   "cell_type": "code",
   "execution_count": 49,
   "metadata": {},
   "outputs": [
    {
     "name": "stdout",
     "output_type": "stream",
     "text": [
      "[[ 835  857]\n",
      " [ 293 1480]]\n",
      "\n",
      "\n",
      "              precision    recall  f1-score   support\n",
      "\n",
      "        fake       0.74      0.49      0.59      1692\n",
      "        real       0.63      0.83      0.72      1773\n",
      "\n",
      "    accuracy                           0.67      3465\n",
      "   macro avg       0.69      0.66      0.66      3465\n",
      "weighted avg       0.69      0.67      0.66      3465\n",
      "\n"
     ]
    }
   ],
   "source": [
    "print(confusion_matrix(y_test, predictions2))\n",
    "print('\\n')\n",
    "print(classification_report(y_test, predictions2))"
   ]
  },
  {
   "cell_type": "code",
   "execution_count": 50,
   "metadata": {},
   "outputs": [],
   "source": [
    "#passive-aggresive classifier\n",
    "from sklearn.linear_model import PassiveAggressiveClassifier\n",
    "pp3=Pipeline([\n",
    "    ('bow',CountVectorizer()),\n",
    "    ('tfidf',TfidfTransformer()),\n",
    "    ('classifier',PassiveAggressiveClassifier())\n",
    "    ])"
   ]
  },
  {
   "cell_type": "code",
   "execution_count": 51,
   "metadata": {},
   "outputs": [
    {
     "data": {
      "text/plain": [
       "Pipeline(steps=[('bow', CountVectorizer()), ('tfidf', TfidfTransformer()),\n",
       "                ('classifier', PassiveAggressiveClassifier())])"
      ]
     },
     "execution_count": 51,
     "metadata": {},
     "output_type": "execute_result"
    }
   ],
   "source": [
    "pp3.fit(X_train,y_train)"
   ]
  },
  {
   "cell_type": "code",
   "execution_count": 52,
   "metadata": {},
   "outputs": [],
   "source": [
    "predictions3=pp3.predict(X_test)"
   ]
  },
  {
   "cell_type": "code",
   "execution_count": 53,
   "metadata": {},
   "outputs": [
    {
     "name": "stdout",
     "output_type": "stream",
     "text": [
      "[[1137  555]\n",
      " [ 562 1211]]\n",
      "\n",
      "\n",
      "              precision    recall  f1-score   support\n",
      "\n",
      "        fake       0.67      0.67      0.67      1692\n",
      "        real       0.69      0.68      0.68      1773\n",
      "\n",
      "    accuracy                           0.68      3465\n",
      "   macro avg       0.68      0.68      0.68      3465\n",
      "weighted avg       0.68      0.68      0.68      3465\n",
      "\n"
     ]
    }
   ],
   "source": [
    "print(confusion_matrix(y_test, predictions3))\n",
    "print('\\n')\n",
    "print(classification_report(y_test, predictions3))"
   ]
  },
  {
   "cell_type": "code",
   "execution_count": 54,
   "metadata": {},
   "outputs": [],
   "source": [
    "#logistic regression\n",
    "pp4=Pipeline([\n",
    "    ('bow',CountVectorizer()),\n",
    "    ('tfidf',TfidfTransformer()),\n",
    "    ('classifier',LogisticRegression())\n",
    "    ])"
   ]
  },
  {
   "cell_type": "code",
   "execution_count": 55,
   "metadata": {},
   "outputs": [
    {
     "data": {
      "text/plain": [
       "Pipeline(steps=[('bow', CountVectorizer()), ('tfidf', TfidfTransformer()),\n",
       "                ('classifier', LogisticRegression())])"
      ]
     },
     "execution_count": 55,
     "metadata": {},
     "output_type": "execute_result"
    }
   ],
   "source": [
    "pp4.fit(X_train,y_train)"
   ]
  },
  {
   "cell_type": "code",
   "execution_count": 56,
   "metadata": {},
   "outputs": [],
   "source": [
    "predictions4=pp4.predict(X_test)"
   ]
  },
  {
   "cell_type": "code",
   "execution_count": 57,
   "metadata": {},
   "outputs": [
    {
     "name": "stdout",
     "output_type": "stream",
     "text": [
      "[[1089  603]\n",
      " [ 408 1365]]\n",
      "\n",
      "\n",
      "              precision    recall  f1-score   support\n",
      "\n",
      "        fake       0.73      0.64      0.68      1692\n",
      "        real       0.69      0.77      0.73      1773\n",
      "\n",
      "    accuracy                           0.71      3465\n",
      "   macro avg       0.71      0.71      0.71      3465\n",
      "weighted avg       0.71      0.71      0.71      3465\n",
      "\n"
     ]
    }
   ],
   "source": [
    "print(confusion_matrix(y_test, predictions4))\n",
    "print('\\n')\n",
    "print(classification_report(y_test, predictions4))"
   ]
  },
  {
   "cell_type": "markdown",
   "metadata": {},
   "source": [
    "### BERT MODEL - Full Text based Content - implemented in Kaggle (Needed TPU)"
   ]
  },
  {
   "cell_type": "code",
   "execution_count": null,
   "metadata": {},
   "outputs": [],
   "source": []
  }
 ],
 "metadata": {
  "kernelspec": {
   "display_name": "Python 3",
   "language": "python",
   "name": "python3"
  },
  "language_info": {
   "codemirror_mode": {
    "name": "ipython",
    "version": 3
   },
   "file_extension": ".py",
   "mimetype": "text/x-python",
   "name": "python",
   "nbconvert_exporter": "python",
   "pygments_lexer": "ipython3",
   "version": "3.8.3"
  }
 },
 "nbformat": 4,
 "nbformat_minor": 4
}
