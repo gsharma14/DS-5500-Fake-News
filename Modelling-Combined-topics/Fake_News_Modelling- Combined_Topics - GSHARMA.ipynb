{
 "cells": [
  {
   "cell_type": "markdown",
   "metadata": {},
   "source": [
    "# Modelling - Balanced and processed data"
   ]
  },
  {
   "cell_type": "markdown",
   "metadata": {},
   "source": [
    "## All Topics - Politics, Covid, Gossip and Disaster"
   ]
  },
  {
   "cell_type": "code",
   "execution_count": 214,
   "metadata": {},
   "outputs": [],
   "source": [
    "#Loading Libraries\n",
    "import numpy as np\n",
    "import pandas as pd\n",
    "import seaborn as sns\n",
    "import matplotlib.pyplot as plt\n",
    "import nltk\n",
    "from sklearn.preprocessing import LabelBinarizer\n",
    "from nltk.corpus import stopwords\n",
    "from nltk.stem.porter import PorterStemmer\n",
    "from wordcloud import WordCloud,STOPWORDS\n",
    "from nltk.stem import WordNetLemmatizer\n",
    "from nltk.tokenize import word_tokenize,sent_tokenize\n",
    "from bs4 import BeautifulSoup\n",
    "import re,string,unicodedata\n",
    "from keras.preprocessing import text, sequence\n",
    "from sklearn.metrics import classification_report,confusion_matrix,accuracy_score,f1_score\n",
    "from sklearn.model_selection import train_test_split\n",
    "from string import punctuation\n",
    "from nltk import pos_tag\n",
    "from nltk.corpus import wordnet\n",
    "import keras\n",
    "from keras.models import Sequential\n",
    "from keras.layers import Dense,Embedding,LSTM,Dropout\n",
    "from keras.callbacks import ReduceLROnPlateau\n",
    "import tensorflow as tf\n",
    "\n",
    "from sklearn.feature_extraction.text import CountVectorizer\n",
    "from sklearn.feature_extraction.text import TfidfTransformer\n",
    "from sklearn.feature_extraction.text import TfidfVectorizer\n",
    "from sklearn.pipeline import Pipeline\n",
    "from sklearn.linear_model import  LogisticRegression\n",
    "from sklearn.linear_model import SGDClassifier\n",
    "from sklearn.naive_bayes import MultinomialNB\n",
    "from sklearn.ensemble import RandomForestClassifier\n",
    "from sklearn.model_selection import KFold\n",
    "from sklearn.model_selection import GridSearchCV\n",
    "from sklearn.model_selection import learning_curve\n",
    "from sklearn.metrics import precision_recall_curve\n",
    "from sklearn.metrics import average_precision_score\n",
    "from sklearn import svm\n",
    "from gensim.models.word2vec import Word2Vec\n",
    "import pickle\n",
    "import warnings\n",
    "warnings.filterwarnings(\"ignore\")"
   ]
  },
  {
   "cell_type": "code",
   "execution_count": 216,
   "metadata": {},
   "outputs": [
    {
     "name": "stdout",
     "output_type": "stream",
     "text": [
      "(29052, 9)\n"
     ]
    },
    {
     "data": {
      "text/html": [
       "<div>\n",
       "<style scoped>\n",
       "    .dataframe tbody tr th:only-of-type {\n",
       "        vertical-align: middle;\n",
       "    }\n",
       "\n",
       "    .dataframe tbody tr th {\n",
       "        vertical-align: top;\n",
       "    }\n",
       "\n",
       "    .dataframe thead th {\n",
       "        text-align: right;\n",
       "    }\n",
       "</style>\n",
       "<table border=\"1\" class=\"dataframe\">\n",
       "  <thead>\n",
       "    <tr style=\"text-align: right;\">\n",
       "      <th></th>\n",
       "      <th>Unnamed: 0</th>\n",
       "      <th>id</th>\n",
       "      <th>title</th>\n",
       "      <th>text</th>\n",
       "      <th>source</th>\n",
       "      <th>target</th>\n",
       "      <th>clean_text</th>\n",
       "      <th>clean_title</th>\n",
       "      <th>news_class</th>\n",
       "    </tr>\n",
       "  </thead>\n",
       "  <tbody>\n",
       "    <tr>\n",
       "      <th>0</th>\n",
       "      <td>0</td>\n",
       "      <td>buzzfeed</td>\n",
       "      <td>Proof The Mainstream Media Is Manipulating The...</td>\n",
       "      <td>I woke up this morning to find a variation of ...</td>\n",
       "      <td>www.addictinginfo.org</td>\n",
       "      <td>fake</td>\n",
       "      <td>woke morning variation headline splashed news ...</td>\n",
       "      <td>proof mainstream medium manipulating election ...</td>\n",
       "      <td>0</td>\n",
       "    </tr>\n",
       "    <tr>\n",
       "      <th>1</th>\n",
       "      <td>1</td>\n",
       "      <td>buzzfeed</td>\n",
       "      <td>Charity: Clinton Foundation Distributed “Water...</td>\n",
       "      <td>Former President Bill Clinton and his Clinton ...</td>\n",
       "      <td>eaglerising.com</td>\n",
       "      <td>fake</td>\n",
       "      <td>president clinton clinton health access initia...</td>\n",
       "      <td>charity clinton foundation distributed watered...</td>\n",
       "      <td>0</td>\n",
       "    </tr>\n",
       "    <tr>\n",
       "      <th>2</th>\n",
       "      <td>2</td>\n",
       "      <td>buzzfeed</td>\n",
       "      <td>A Hillary Clinton Administration May be Entire...</td>\n",
       "      <td>After collapsing just before trying to step in...</td>\n",
       "      <td>eaglerising.com</td>\n",
       "      <td>fake</td>\n",
       "      <td>collapsing trying step van removed ceremony ne...</td>\n",
       "      <td>hillary clinton administration entirely run fi...</td>\n",
       "      <td>0</td>\n",
       "    </tr>\n",
       "    <tr>\n",
       "      <th>3</th>\n",
       "      <td>3</td>\n",
       "      <td>buzzfeed</td>\n",
       "      <td>Trump’s Latest Campaign Promise May Be His Mos...</td>\n",
       "      <td>Donald Trump is, well, deplorable. He’s sugges...</td>\n",
       "      <td>www.addictinginfo.org</td>\n",
       "      <td>fake</td>\n",
       "      <td>donald trump deplorable he suggested building ...</td>\n",
       "      <td>trump latest campaign promise horrible</td>\n",
       "      <td>0</td>\n",
       "    </tr>\n",
       "    <tr>\n",
       "      <th>4</th>\n",
       "      <td>4</td>\n",
       "      <td>buzzfeed</td>\n",
       "      <td>Website is Down For Maintenance</td>\n",
       "      <td>Website is Down For Maintenance</td>\n",
       "      <td>www.proudcons.com</td>\n",
       "      <td>fake</td>\n",
       "      <td>website maintenance</td>\n",
       "      <td>website maintenance</td>\n",
       "      <td>0</td>\n",
       "    </tr>\n",
       "  </tbody>\n",
       "</table>\n",
       "</div>"
      ],
      "text/plain": [
       "   Unnamed: 0        id                                              title  \\\n",
       "0           0  buzzfeed  Proof The Mainstream Media Is Manipulating The...   \n",
       "1           1  buzzfeed  Charity: Clinton Foundation Distributed “Water...   \n",
       "2           2  buzzfeed  A Hillary Clinton Administration May be Entire...   \n",
       "3           3  buzzfeed  Trump’s Latest Campaign Promise May Be His Mos...   \n",
       "4           4  buzzfeed                    Website is Down For Maintenance   \n",
       "\n",
       "                                                text                 source  \\\n",
       "0  I woke up this morning to find a variation of ...  www.addictinginfo.org   \n",
       "1  Former President Bill Clinton and his Clinton ...        eaglerising.com   \n",
       "2  After collapsing just before trying to step in...        eaglerising.com   \n",
       "3  Donald Trump is, well, deplorable. He’s sugges...  www.addictinginfo.org   \n",
       "4                    Website is Down For Maintenance      www.proudcons.com   \n",
       "\n",
       "  target                                         clean_text  \\\n",
       "0   fake  woke morning variation headline splashed news ...   \n",
       "1   fake  president clinton clinton health access initia...   \n",
       "2   fake  collapsing trying step van removed ceremony ne...   \n",
       "3   fake  donald trump deplorable he suggested building ...   \n",
       "4   fake                                website maintenance   \n",
       "\n",
       "                                         clean_title  news_class  \n",
       "0  proof mainstream medium manipulating election ...           0  \n",
       "1  charity clinton foundation distributed watered...           0  \n",
       "2  hillary clinton administration entirely run fi...           0  \n",
       "3             trump latest campaign promise horrible           0  \n",
       "4                                website maintenance           0  "
      ]
     },
     "execution_count": 216,
     "metadata": {},
     "output_type": "execute_result"
    }
   ],
   "source": [
    "#df = pd.read_csv(\"/Users/gopalika14/Desktop/combined_tweets.csv\")\n",
    "df = pd.read_csv(\"/Users/gopalika14/Desktop/tweet_data_modeling.csv\")\n",
    "print(df.shape)\n",
    "df.head()"
   ]
  },
  {
   "cell_type": "code",
   "execution_count": 218,
   "metadata": {},
   "outputs": [
    {
     "data": {
      "text/html": [
       "<div>\n",
       "<style scoped>\n",
       "    .dataframe tbody tr th:only-of-type {\n",
       "        vertical-align: middle;\n",
       "    }\n",
       "\n",
       "    .dataframe tbody tr th {\n",
       "        vertical-align: top;\n",
       "    }\n",
       "\n",
       "    .dataframe thead th {\n",
       "        text-align: right;\n",
       "    }\n",
       "</style>\n",
       "<table border=\"1\" class=\"dataframe\">\n",
       "  <thead>\n",
       "    <tr style=\"text-align: right;\">\n",
       "      <th></th>\n",
       "      <th>Unnamed: 0</th>\n",
       "      <th>id</th>\n",
       "      <th>title</th>\n",
       "      <th>text</th>\n",
       "      <th>source</th>\n",
       "      <th>target</th>\n",
       "      <th>clean_text</th>\n",
       "      <th>clean_title</th>\n",
       "      <th>all</th>\n",
       "      <th>is_fake</th>\n",
       "    </tr>\n",
       "  </thead>\n",
       "  <tbody>\n",
       "    <tr>\n",
       "      <th>0</th>\n",
       "      <td>0</td>\n",
       "      <td>buzzfeed</td>\n",
       "      <td>Proof The Mainstream Media Is Manipulating The...</td>\n",
       "      <td>I woke up this morning to find a variation of ...</td>\n",
       "      <td>www.addictinginfo.org</td>\n",
       "      <td>fake</td>\n",
       "      <td>woke morning variation headline splashed news ...</td>\n",
       "      <td>proof mainstream medium manipulating election ...</td>\n",
       "      <td>proof mainstream medium manipulating election ...</td>\n",
       "      <td>1.0</td>\n",
       "    </tr>\n",
       "    <tr>\n",
       "      <th>1</th>\n",
       "      <td>1</td>\n",
       "      <td>buzzfeed</td>\n",
       "      <td>Charity: Clinton Foundation Distributed “Water...</td>\n",
       "      <td>Former President Bill Clinton and his Clinton ...</td>\n",
       "      <td>eaglerising.com</td>\n",
       "      <td>fake</td>\n",
       "      <td>president clinton clinton health access initia...</td>\n",
       "      <td>charity clinton foundation distributed watered...</td>\n",
       "      <td>charity clinton foundation distributed watered...</td>\n",
       "      <td>1.0</td>\n",
       "    </tr>\n",
       "    <tr>\n",
       "      <th>2</th>\n",
       "      <td>2</td>\n",
       "      <td>buzzfeed</td>\n",
       "      <td>A Hillary Clinton Administration May be Entire...</td>\n",
       "      <td>After collapsing just before trying to step in...</td>\n",
       "      <td>eaglerising.com</td>\n",
       "      <td>fake</td>\n",
       "      <td>collapsing trying step van removed ceremony ne...</td>\n",
       "      <td>hillary clinton administration entirely run fi...</td>\n",
       "      <td>hillary clinton administration entirely run fi...</td>\n",
       "      <td>1.0</td>\n",
       "    </tr>\n",
       "    <tr>\n",
       "      <th>3</th>\n",
       "      <td>3</td>\n",
       "      <td>buzzfeed</td>\n",
       "      <td>Trump’s Latest Campaign Promise May Be His Mos...</td>\n",
       "      <td>Donald Trump is, well, deplorable. He’s sugges...</td>\n",
       "      <td>www.addictinginfo.org</td>\n",
       "      <td>fake</td>\n",
       "      <td>donald trump deplorable he suggested building ...</td>\n",
       "      <td>trump latest campaign promise horrible</td>\n",
       "      <td>trump latest campaign promise horribledonald t...</td>\n",
       "      <td>1.0</td>\n",
       "    </tr>\n",
       "    <tr>\n",
       "      <th>4</th>\n",
       "      <td>4</td>\n",
       "      <td>buzzfeed</td>\n",
       "      <td>Website is Down For Maintenance</td>\n",
       "      <td>Website is Down For Maintenance</td>\n",
       "      <td>www.proudcons.com</td>\n",
       "      <td>fake</td>\n",
       "      <td>website maintenance</td>\n",
       "      <td>website maintenance</td>\n",
       "      <td>website maintenancewebsite maintenance</td>\n",
       "      <td>1.0</td>\n",
       "    </tr>\n",
       "  </tbody>\n",
       "</table>\n",
       "</div>"
      ],
      "text/plain": [
       "   Unnamed: 0        id                                              title  \\\n",
       "0           0  buzzfeed  Proof The Mainstream Media Is Manipulating The...   \n",
       "1           1  buzzfeed  Charity: Clinton Foundation Distributed “Water...   \n",
       "2           2  buzzfeed  A Hillary Clinton Administration May be Entire...   \n",
       "3           3  buzzfeed  Trump’s Latest Campaign Promise May Be His Mos...   \n",
       "4           4  buzzfeed                    Website is Down For Maintenance   \n",
       "\n",
       "                                                text                 source  \\\n",
       "0  I woke up this morning to find a variation of ...  www.addictinginfo.org   \n",
       "1  Former President Bill Clinton and his Clinton ...        eaglerising.com   \n",
       "2  After collapsing just before trying to step in...        eaglerising.com   \n",
       "3  Donald Trump is, well, deplorable. He’s sugges...  www.addictinginfo.org   \n",
       "4                    Website is Down For Maintenance      www.proudcons.com   \n",
       "\n",
       "  target                                         clean_text  \\\n",
       "0   fake  woke morning variation headline splashed news ...   \n",
       "1   fake  president clinton clinton health access initia...   \n",
       "2   fake  collapsing trying step van removed ceremony ne...   \n",
       "3   fake  donald trump deplorable he suggested building ...   \n",
       "4   fake                                website maintenance   \n",
       "\n",
       "                                         clean_title  \\\n",
       "0  proof mainstream medium manipulating election ...   \n",
       "1  charity clinton foundation distributed watered...   \n",
       "2  hillary clinton administration entirely run fi...   \n",
       "3             trump latest campaign promise horrible   \n",
       "4                                website maintenance   \n",
       "\n",
       "                                                 all  is_fake  \n",
       "0  proof mainstream medium manipulating election ...      1.0  \n",
       "1  charity clinton foundation distributed watered...      1.0  \n",
       "2  hillary clinton administration entirely run fi...      1.0  \n",
       "3  trump latest campaign promise horribledonald t...      1.0  \n",
       "4             website maintenancewebsite maintenance      1.0  "
      ]
     },
     "execution_count": 218,
     "metadata": {},
     "output_type": "execute_result"
    }
   ],
   "source": [
    "df['all'] = df['clean_title']+ ''+ df['clean_text']\n",
    "indexfake = df[ df['target'] == \"fake\" ].index\n",
    "indexreal = df[ df['target'] == \"real\" ].index\n",
    "# now use df.loc to set values only to those rows\n",
    "df.loc[indexfake,'is_fake'] = 1\n",
    "df.loc[indexreal,'is_fake'] = 0\n",
    "df = df.drop('news_class', axis =1)\n",
    "df.head()"
   ]
  },
  {
   "cell_type": "code",
   "execution_count": 219,
   "metadata": {},
   "outputs": [],
   "source": [
    "#import nltk\n",
    "#nltk.download('stopwords')\n",
    "#stop = stopwords.words('english')\n",
    "#sw_list = ['say','said','though','asked','time','including','made','including','time','number','one','called','added','according','made','put'] #adding more stop words in the list to refine the word cloud\n",
    "#stop.extend(sw_list)\n",
    "#punctuation = list(string.punctuation)\n",
    "#stop.extend(punctuation)"
   ]
  },
  {
   "cell_type": "code",
   "execution_count": 220,
   "metadata": {},
   "outputs": [],
   "source": [
    "#def strip_html(text):\n",
    " #   soup = BeautifulSoup(text, \"html.parser\")\n",
    "  #  return soup.get_text()\n",
    "\n",
    "\n",
    "#def remove_between_square_brackets(text):\n",
    " #   return re.sub('\\[[^]]*\\]', '', text)\n",
    "\n",
    "#def remove_between_square_brackets(text):\n",
    " #   return re.sub(r'http\\S+', '', text)\n",
    "\n",
    "#def remove_stopwords(text):\n",
    " #   final_text = []\n",
    "  #  for i in text.split():\n",
    "   #     if i.strip().lower() not in stop:\n",
    "    #        final_text.append(i.strip())\n",
    "    #return \" \".join(final_text)\n",
    "\n",
    "#def denoise_text(text):\n",
    " #   text = strip_html(text)\n",
    "  #  text = remove_between_square_brackets(text)\n",
    "   # text = remove_stopwords(text)\n",
    "    #return text\n"
   ]
  },
  {
   "cell_type": "code",
   "execution_count": 228,
   "metadata": {},
   "outputs": [
    {
     "data": {
      "text/plain": [
       "StringDtype"
      ]
     },
     "execution_count": 228,
     "metadata": {},
     "output_type": "execute_result"
    }
   ],
   "source": [
    "df['all']=df['all'].astype('string')\n",
    "df = df.replace(np.nan, '', regex=True)\n",
    "df['all'].dtype"
   ]
  },
  {
   "cell_type": "code",
   "execution_count": 229,
   "metadata": {},
   "outputs": [],
   "source": [
    "#Apply function on full-text column\n",
    "#df['all']=df['all'].apply(denoise_text)\n",
    "#df.head()"
   ]
  },
  {
   "cell_type": "markdown",
   "metadata": {},
   "source": [
    "#### Balancing data"
   ]
  },
  {
   "cell_type": "code",
   "execution_count": 230,
   "metadata": {},
   "outputs": [
    {
     "name": "stdout",
     "output_type": "stream",
     "text": [
      "Random under-sampling:\n",
      "1.0    10304\n",
      "0.0    10304\n",
      "Name: is_fake, dtype: int64\n",
      "(20608, 10)\n"
     ]
    },
    {
     "data": {
      "image/png": "[encoded data removed]",
      "text/plain": [
       "<Figure size 432x288 with 1 Axes>"
      ]
     },
     "metadata": {
      "needs_background": "light"
     },
     "output_type": "display_data"
    }
   ],
   "source": [
    "# Class count\n",
    "count_class_real, count_class_fake = df.is_fake.value_counts()\n",
    "\n",
    "# Divide by class\n",
    "df_class_real = df[df['is_fake'] == 0.0]\n",
    "df_class_fake = df[df['is_fake'] == 1.0]\n",
    "\n",
    "\n",
    "df_class_real_under = df_class_real.sample(count_class_fake)\n",
    "df_new = pd.concat([df_class_real_under, df_class_fake], axis=0)\n",
    "\n",
    "print('Random under-sampling:')\n",
    "print(df_new.is_fake.value_counts())\n",
    "\n",
    "df_new.is_fake.value_counts().plot(kind='bar', title='Count (target)');\n",
    "\n",
    "df_new.head()\n",
    "print(df_new.shape)"
   ]
  },
  {
   "cell_type": "code",
   "execution_count": 231,
   "metadata": {},
   "outputs": [],
   "source": [
    "X=df_new['all']\n",
    "y=df_new['is_fake']\n",
    "X_train, X_test, y_train, y_test = train_test_split(X, y, test_size=0.2, random_state=42)"
   ]
  },
  {
   "cell_type": "code",
   "execution_count": 232,
   "metadata": {},
   "outputs": [],
   "source": [
    "#Random Forest Classifier\n",
    "pp1=Pipeline([\n",
    "    ('bow',CountVectorizer()),\n",
    "    ('tfidf',TfidfTransformer()),\n",
    "    ('classifier',RandomForestClassifier())\n",
    "    ])"
   ]
  },
  {
   "cell_type": "code",
   "execution_count": 233,
   "metadata": {},
   "outputs": [
    {
     "data": {
      "text/plain": [
       "Pipeline(steps=[('bow', CountVectorizer()), ('tfidf', TfidfTransformer()),\n",
       "                ('classifier', RandomForestClassifier())])"
      ]
     },
     "execution_count": 233,
     "metadata": {},
     "output_type": "execute_result"
    }
   ],
   "source": [
    "pp1.fit(X_train,y_train)"
   ]
  },
  {
   "cell_type": "code",
   "execution_count": 234,
   "metadata": {},
   "outputs": [],
   "source": [
    "predictions=pp1.predict(X_test)"
   ]
  },
  {
   "cell_type": "code",
   "execution_count": 235,
   "metadata": {},
   "outputs": [
    {
     "name": "stdout",
     "output_type": "stream",
     "text": [
      "[[1621  451]\n",
      " [ 587 1463]]\n",
      "\n",
      "\n",
      "              precision    recall  f1-score   support\n",
      "\n",
      "         0.0       0.73      0.78      0.76      2072\n",
      "         1.0       0.76      0.71      0.74      2050\n",
      "\n",
      "    accuracy                           0.75      4122\n",
      "   macro avg       0.75      0.75      0.75      4122\n",
      "weighted avg       0.75      0.75      0.75      4122\n",
      "\n"
     ]
    }
   ],
   "source": [
    "print(confusion_matrix(y_test, predictions))\n",
    "print('\\n')\n",
    "print(classification_report(y_test, predictions))"
   ]
  },
  {
   "cell_type": "code",
   "execution_count": 236,
   "metadata": {},
   "outputs": [],
   "source": [
    "#passive-aggresive classifier\n",
    "from sklearn.linear_model import PassiveAggressiveClassifier\n",
    "pp2=Pipeline([\n",
    "    ('bow',CountVectorizer()),\n",
    "    ('tfidf',TfidfTransformer()),\n",
    "    ('classifier',PassiveAggressiveClassifier())\n",
    "    ])"
   ]
  },
  {
   "cell_type": "code",
   "execution_count": 237,
   "metadata": {},
   "outputs": [
    {
     "data": {
      "text/plain": [
       "Pipeline(steps=[('bow', CountVectorizer()), ('tfidf', TfidfTransformer()),\n",
       "                ('classifier', PassiveAggressiveClassifier())])"
      ]
     },
     "execution_count": 237,
     "metadata": {},
     "output_type": "execute_result"
    }
   ],
   "source": [
    "pp2.fit(X_train,y_train)"
   ]
  },
  {
   "cell_type": "code",
   "execution_count": 238,
   "metadata": {},
   "outputs": [],
   "source": [
    "predictions2=pp2.predict(X_test)"
   ]
  },
  {
   "cell_type": "code",
   "execution_count": 239,
   "metadata": {},
   "outputs": [
    {
     "name": "stdout",
     "output_type": "stream",
     "text": [
      "[[1809  263]\n",
      " [1257  793]]\n",
      "\n",
      "\n",
      "              precision    recall  f1-score   support\n",
      "\n",
      "         0.0       0.59      0.87      0.70      2072\n",
      "         1.0       0.75      0.39      0.51      2050\n",
      "\n",
      "    accuracy                           0.63      4122\n",
      "   macro avg       0.67      0.63      0.61      4122\n",
      "weighted avg       0.67      0.63      0.61      4122\n",
      "\n"
     ]
    }
   ],
   "source": [
    "print(confusion_matrix(y_test, predictions2))\n",
    "print('\\n')\n",
    "print(classification_report(y_test, predictions2))"
   ]
  },
  {
   "cell_type": "code",
   "execution_count": 240,
   "metadata": {},
   "outputs": [],
   "source": [
    "#logistic regression\n",
    "pp3=Pipeline([\n",
    "    ('bow',CountVectorizer()),\n",
    "    ('tfidf',TfidfTransformer()),\n",
    "    ('classifier',LogisticRegression())\n",
    "    ])"
   ]
  },
  {
   "cell_type": "code",
   "execution_count": 241,
   "metadata": {},
   "outputs": [
    {
     "data": {
      "text/plain": [
       "Pipeline(steps=[('bow', CountVectorizer()), ('tfidf', TfidfTransformer()),\n",
       "                ('classifier', LogisticRegression())])"
      ]
     },
     "execution_count": 241,
     "metadata": {},
     "output_type": "execute_result"
    }
   ],
   "source": [
    "pp3.fit(X_train,y_train)"
   ]
  },
  {
   "cell_type": "code",
   "execution_count": 242,
   "metadata": {},
   "outputs": [],
   "source": [
    "predictions3=pp3.predict(X_test)"
   ]
  },
  {
   "cell_type": "code",
   "execution_count": 243,
   "metadata": {},
   "outputs": [
    {
     "name": "stdout",
     "output_type": "stream",
     "text": [
      "[[1493  579]\n",
      " [ 349 1701]]\n",
      "\n",
      "\n",
      "              precision    recall  f1-score   support\n",
      "\n",
      "         0.0       0.81      0.72      0.76      2072\n",
      "         1.0       0.75      0.83      0.79      2050\n",
      "\n",
      "    accuracy                           0.77      4122\n",
      "   macro avg       0.78      0.78      0.77      4122\n",
      "weighted avg       0.78      0.77      0.77      4122\n",
      "\n"
     ]
    }
   ],
   "source": [
    "print(confusion_matrix(y_test, predictions3))\n",
    "print('\\n')\n",
    "print(classification_report(y_test, predictions3))"
   ]
  },
  {
   "cell_type": "code",
   "execution_count": 244,
   "metadata": {},
   "outputs": [],
   "source": [
    "from xgboost import XGBClassifier\n",
    "#XGBoost\n",
    "pp4=Pipeline([\n",
    "    ('bow',CountVectorizer()),\n",
    "    ('tfidf',TfidfTransformer()),\n",
    "    ('classifier',XGBClassifier())\n",
    "    ])"
   ]
  },
  {
   "cell_type": "code",
   "execution_count": 245,
   "metadata": {},
   "outputs": [
    {
     "data": {
      "text/plain": [
       "Pipeline(steps=[('bow', CountVectorizer()), ('tfidf', TfidfTransformer()),\n",
       "                ('classifier',\n",
       "                 XGBClassifier(base_score=0.5, booster='gbtree',\n",
       "                               colsample_bylevel=1, colsample_bynode=1,\n",
       "                               colsample_bytree=1, gamma=0, gpu_id=-1,\n",
       "                               importance_type='gain',\n",
       "                               interaction_constraints='',\n",
       "                               learning_rate=0.300000012, max_delta_step=0,\n",
       "                               max_depth=6, min_child_weight=1, missing=nan,\n",
       "                               monotone_constraints='()', n_estimators=100,\n",
       "                               n_jobs=0, num_parallel_tree=1, random_state=0,\n",
       "                               reg_alpha=0, reg_lambda=1, scale_pos_weight=1,\n",
       "                               subsample=1, tree_method='exact',\n",
       "                               validate_parameters=1, verbosity=None))])"
      ]
     },
     "execution_count": 245,
     "metadata": {},
     "output_type": "execute_result"
    }
   ],
   "source": [
    "pp4.fit(X_train,y_train)"
   ]
  },
  {
   "cell_type": "code",
   "execution_count": 246,
   "metadata": {},
   "outputs": [],
   "source": [
    "predictions4=pp4.predict(X_test)"
   ]
  },
  {
   "cell_type": "code",
   "execution_count": 247,
   "metadata": {},
   "outputs": [
    {
     "name": "stdout",
     "output_type": "stream",
     "text": [
      "[[1463  609]\n",
      " [ 375 1675]]\n",
      "\n",
      "\n",
      "              precision    recall  f1-score   support\n",
      "\n",
      "         0.0       0.80      0.71      0.75      2072\n",
      "         1.0       0.73      0.82      0.77      2050\n",
      "\n",
      "    accuracy                           0.76      4122\n",
      "   macro avg       0.76      0.76      0.76      4122\n",
      "weighted avg       0.76      0.76      0.76      4122\n",
      "\n"
     ]
    }
   ],
   "source": [
    "print(confusion_matrix(y_test, predictions4))\n",
    "print('\\n')\n",
    "print(classification_report(y_test, predictions4))"
   ]
  },
  {
   "cell_type": "markdown",
   "metadata": {},
   "source": [
    "### Splitting Data"
   ]
  },
  {
   "cell_type": "code",
   "execution_count": 248,
   "metadata": {},
   "outputs": [
    {
     "name": "stdout",
     "output_type": "stream",
     "text": [
      "(706, 10)\n",
      "(12766, 10)\n",
      "(885, 10)\n",
      "(6106, 10)\n"
     ]
    }
   ],
   "source": [
    "# Split data for topic specific modelling\n",
    "polit = df_new[df_new['id'].str.contains('polit')]\n",
    "print(polit.shape)\n",
    "\n",
    "gossip = df_new[df_new['id'].str.contains('gossip')]\n",
    "print(gossip.shape)\n",
    "\n",
    "covid = df_new[df_new['id'].str.contains('covid')]\n",
    "print(covid.shape)\n",
    "\n",
    "natural = df_new[df_new['id'].str.contains('natural')]\n",
    "print(natural.shape)"
   ]
  },
  {
   "cell_type": "markdown",
   "metadata": {},
   "source": [
    "# Politics"
   ]
  },
  {
   "cell_type": "code",
   "execution_count": 251,
   "metadata": {},
   "outputs": [
    {
     "data": {
      "text/plain": [
       "<matplotlib.axes._subplots.AxesSubplot object at 0x1493c0040>"
      ]
     },
     "execution_count": 251,
     "metadata": {},
     "output_type": "execute_result"
    },
    {
     "data": {
      "image/png": "[encoded data removed]",
      "text/plain": [
       "<Figure size 432x288 with 1 Axes>"
      ]
     },
     "metadata": {},
     "output_type": "display_data"
    }
   ],
   "source": [
    "sns.set_style(\"darkgrid\")\n",
    "sns.countplot(polit.target)"
   ]
  },
  {
   "cell_type": "code",
   "execution_count": 252,
   "metadata": {},
   "outputs": [
    {
     "name": "stdout",
     "output_type": "stream",
     "text": [
      "Random under-sampling:\n",
      "1.0    396\n",
      "0.0    310\n",
      "Name: is_fake, dtype: int64\n",
      "(706, 10)\n"
     ]
    },
    {
     "data": {
      "image/png": "[encoded data removed]",
      "text/plain": [
       "<Figure size 432x288 with 1 Axes>"
      ]
     },
     "metadata": {},
     "output_type": "display_data"
    }
   ],
   "source": [
    "# Class count\n",
    "count_class_real, count_class_fake = polit.is_fake.value_counts()\n",
    "\n",
    "# Divide by class\n",
    "df_class_real = polit[polit['is_fake'] == 0.0]\n",
    "df_class_fake = polit[polit['is_fake'] == 1.0]\n",
    "\n",
    "\n",
    "df_class_real_under = df_class_real.sample(count_class_fake)\n",
    "polit = pd.concat([df_class_real_under, df_class_fake], axis=0)\n",
    "\n",
    "print('Random under-sampling:')\n",
    "print(polit.is_fake.value_counts())\n",
    "\n",
    "polit.is_fake.value_counts().plot(kind='bar', title='Count (target)');\n",
    "\n",
    "polit.head()\n",
    "print(polit.shape)"
   ]
  },
  {
   "cell_type": "code",
   "execution_count": 180,
   "metadata": {},
   "outputs": [],
   "source": [
    "X=polit['all']\n",
    "y=polit['is_fake']\n",
    "X_train, X_test, y_train, y_test = train_test_split(X, y, test_size=0.2, random_state=42)"
   ]
  },
  {
   "cell_type": "code",
   "execution_count": 86,
   "metadata": {},
   "outputs": [
    {
     "data": {
      "text/plain": [
       "{'bootstrap': True, 'ccp_alpha': 0.0, 'class_weight': None, 'criterion': 'gini', 'max_depth': None, 'max_features': 'auto', 'max_leaf_nodes': None, 'max_samples': None, 'min_impurity_decrease': 0.0, 'min_impurity_split': None, 'min_samples_leaf': 1, 'min_samples_split': 2, 'min_weight_fraction_leaf': 0.0, 'n_estimators': 100, 'n_jobs': None, 'oob_score': False, 'random_state': None, 'verbose': 0, 'warm_start': False}"
      ]
     },
     "execution_count": 86,
     "metadata": {},
     "output_type": "execute_result"
    }
   ],
   "source": [
    "RandomForestClassifier().get_params()"
   ]
  },
  {
   "cell_type": "code",
   "execution_count": 87,
   "metadata": {},
   "outputs": [],
   "source": [
    "rfc=Pipeline([\n",
    "    ('bow',CountVectorizer()),\n",
    "    ('tfidf',TfidfTransformer()),\n",
    "    ('classifier',RandomForestClassifier())])"
   ]
  },
  {
   "cell_type": "code",
   "execution_count": 88,
   "metadata": {},
   "outputs": [],
   "source": [
    "# Poltics\n",
    "rfc.fit(X_train,y_train)\n",
    "predictions_rfc=rfc.predict(X_test)"
   ]
  },
  {
   "cell_type": "code",
   "execution_count": 89,
   "metadata": {},
   "outputs": [
    {
     "name": "stdout",
     "output_type": "stream",
     "text": [
      "[[50 15]\n",
      " [ 8 66]]\n",
      "\n",
      "\n",
      "              precision    recall  f1-score   support\n",
      "\n",
      "         0.0       0.86      0.77      0.81        65\n",
      "         1.0       0.81      0.89      0.85        74\n",
      "\n",
      "    accuracy                           0.83       139\n",
      "   macro avg       0.84      0.83      0.83       139\n",
      "weighted avg       0.84      0.83      0.83       139\n",
      "\n"
     ]
    }
   ],
   "source": [
    "print(confusion_matrix(y_test, predictions_rfc))\n",
    "print('\\n')\n",
    "print(classification_report(y_test, predictions_rfc))"
   ]
  },
  {
   "cell_type": "code",
   "execution_count": 90,
   "metadata": {},
   "outputs": [
    {
     "data": {
      "text/plain": [
       "{'C': 1.0, 'class_weight': None, 'dual': False, 'fit_intercept': True, 'intercept_scaling': 1, 'l1_ratio': None, 'max_iter': 100, 'multi_class': 'auto', 'n_jobs': None, 'penalty': 'l2', 'random_state': None, 'solver': 'lbfgs', 'tol': 0.0001, 'verbose': 0, 'warm_start': False}"
      ]
     },
     "execution_count": 90,
     "metadata": {},
     "output_type": "execute_result"
    }
   ],
   "source": [
    "LogisticRegression().get_params()"
   ]
  },
  {
   "cell_type": "code",
   "execution_count": 91,
   "metadata": {},
   "outputs": [],
   "source": [
    "lr=Pipeline([\n",
    "    ('bow',CountVectorizer()),\n",
    "    ('tfidf',TfidfTransformer()),\n",
    "    ('classifier',LogisticRegression())])"
   ]
  },
  {
   "cell_type": "code",
   "execution_count": 93,
   "metadata": {},
   "outputs": [],
   "source": [
    "# Poltics\n",
    "lr.fit(X_train,y_train)\n",
    "predictions_lr=lr.predict(X_test)"
   ]
  },
  {
   "cell_type": "code",
   "execution_count": 94,
   "metadata": {},
   "outputs": [
    {
     "name": "stdout",
     "output_type": "stream",
     "text": [
      "[[27 38]\n",
      " [ 1 73]]\n",
      "\n",
      "\n",
      "              precision    recall  f1-score   support\n",
      "\n",
      "         0.0       0.96      0.42      0.58        65\n",
      "         1.0       0.66      0.99      0.79        74\n",
      "\n",
      "    accuracy                           0.72       139\n",
      "   macro avg       0.81      0.70      0.68       139\n",
      "weighted avg       0.80      0.72      0.69       139\n",
      "\n"
     ]
    }
   ],
   "source": [
    "print(confusion_matrix(y_test, predictions_lr))\n",
    "print('\\n')\n",
    "print(classification_report(y_test, predictions_lr))"
   ]
  },
  {
   "cell_type": "code",
   "execution_count": 96,
   "metadata": {},
   "outputs": [],
   "source": [
    "pac=Pipeline([\n",
    "    ('bow',CountVectorizer()),\n",
    "    ('tfidf',TfidfTransformer()),\n",
    "    ('classifier',PassiveAggressiveClassifier())\n",
    "    ])"
   ]
  },
  {
   "cell_type": "code",
   "execution_count": 97,
   "metadata": {},
   "outputs": [],
   "source": [
    "# Poltics\n",
    "pac.fit(X_train,y_train)\n",
    "predictions_pac=pac.predict(X_test)"
   ]
  },
  {
   "cell_type": "code",
   "execution_count": 98,
   "metadata": {},
   "outputs": [
    {
     "name": "stdout",
     "output_type": "stream",
     "text": [
      "[[34 31]\n",
      " [ 4 70]]\n",
      "\n",
      "\n",
      "              precision    recall  f1-score   support\n",
      "\n",
      "         0.0       0.89      0.52      0.66        65\n",
      "         1.0       0.69      0.95      0.80        74\n",
      "\n",
      "    accuracy                           0.75       139\n",
      "   macro avg       0.79      0.73      0.73       139\n",
      "weighted avg       0.79      0.75      0.73       139\n",
      "\n"
     ]
    }
   ],
   "source": [
    "print(confusion_matrix(y_test, predictions_pac))\n",
    "print('\\n')\n",
    "print(classification_report(y_test, predictions_pac))"
   ]
  },
  {
   "cell_type": "code",
   "execution_count": 99,
   "metadata": {},
   "outputs": [],
   "source": [
    "xgb=Pipeline([\n",
    "    ('bow',CountVectorizer()),\n",
    "    ('tfidf',TfidfTransformer()),\n",
    "    ('classifier',XGBClassifier())\n",
    "    ])"
   ]
  },
  {
   "cell_type": "code",
   "execution_count": 100,
   "metadata": {},
   "outputs": [],
   "source": [
    "# Poltics\n",
    "xgb.fit(X_train,y_train)\n",
    "predictions_xgb=xgb.predict(X_test)"
   ]
  },
  {
   "cell_type": "code",
   "execution_count": 101,
   "metadata": {},
   "outputs": [
    {
     "name": "stdout",
     "output_type": "stream",
     "text": [
      "[[53 12]\n",
      " [12 62]]\n",
      "\n",
      "\n",
      "              precision    recall  f1-score   support\n",
      "\n",
      "         0.0       0.82      0.82      0.82        65\n",
      "         1.0       0.84      0.84      0.84        74\n",
      "\n",
      "    accuracy                           0.83       139\n",
      "   macro avg       0.83      0.83      0.83       139\n",
      "weighted avg       0.83      0.83      0.83       139\n",
      "\n"
     ]
    }
   ],
   "source": [
    "print(confusion_matrix(y_test, predictions_xgb))\n",
    "print('\\n')\n",
    "print(classification_report(y_test, predictions_xgb))"
   ]
  },
  {
   "cell_type": "markdown",
   "metadata": {},
   "source": [
    "# With Cross-validation"
   ]
  },
  {
   "cell_type": "code",
   "execution_count": 296,
   "metadata": {},
   "outputs": [],
   "source": [
    "# Pipeline & Gridsearch setup\n",
    "\n",
    "# TFIDF pipeline setup\n",
    "tvc_pipe = Pipeline([\n",
    " ('tvec', TfidfVectorizer()),\n",
    " ('mb', MultinomialNB())])\n",
    "\n",
    "# Setting params for TFIDF Vectorizer gridsearch\n",
    "tf_params = {\n",
    " 'tvec__max_features':[100, 2000],\n",
    " 'tvec__ngram_range': [(1, 1), (1, 2), (2, 2)],\n",
    " 'tvec__stop_words': [None, 'english']}\n",
    "\n",
    "#Model Pipelines\n",
    "# LogisticRegression pipeline setup\n",
    "lr_pipe = Pipeline([\n",
    " ('tvec', TfidfVectorizer()),\n",
    " ('lr', LogisticRegression())])\n",
    "# Randomforest pipeline setup\n",
    "rf_pipe = Pipeline([\n",
    " ('tvec', TfidfVectorizer()),\n",
    " ('rf', RandomForestClassifier())])\n",
    "\n",
    "# PassiveAggresiveClassifier pipeline setup\n",
    "pac_pipe = Pipeline([\n",
    " ('tvec', TfidfVectorizer()),\n",
    " ('pac', PassiveAggressiveClassifier())])\n",
    "\n",
    "# XGBClassifier pipeline setup\n",
    "xgb_pipe = Pipeline([\n",
    " ('tvec', TfidfVectorizer()),\n",
    " ('xgb', XGBClassifier())])\n",
    "\n",
    "#Model Parameters\n",
    "# Setting up randomforest params\n",
    "rf_params = {\n",
    " 'tvec__max_features':[2000],\n",
    " 'tvec__ngram_range': [(1, 2)],\n",
    " 'tvec__stop_words': ['english'],\n",
    " 'rf__max_depth': [1000],\n",
    " 'rf__min_samples_split': [100],\n",
    " 'rf__max_leaf_nodes': [None]}\n",
    "\n",
    "\n",
    "lr_params = {\n",
    "    'tvec__max_features':[2000],\n",
    "    'tvec__ngram_range': [(1, 2)],\n",
    "    'tvec__stop_words': ['english'],\n",
    "    'lr__penalty': ['l1', 'l2'],\n",
    "    'lr__C':[0.001,.009,0.01,.09,1,5,10,25]}\n",
    "\n",
    "pac_params = {\n",
    "    'tvec__max_features':[2000],\n",
    "    'tvec__ngram_range': [(1, 2)],\n",
    "    'tvec__stop_words': ['english'],\n",
    "    'pac__C' : [0.003, 0.01, 0.03, 0.1], \n",
    "    'pac__loss': ['hinge', 'squared_hinge']}\n",
    "\n",
    "xgb_params = {\n",
    "    'tvec__max_features':[2000],\n",
    "    'tvec__ngram_range': [(1, 2)],\n",
    "    'tvec__stop_words': ['english']}\n"
   ]
  },
  {
   "cell_type": "code",
   "execution_count": 201,
   "metadata": {},
   "outputs": [
    {
     "name": "stdout",
     "output_type": "stream",
     "text": [
      "Fitting 3 folds for each of 12 candidates, totalling 36 fits\n"
     ]
    },
    {
     "name": "stderr",
     "output_type": "stream",
     "text": [
      "[Parallel(n_jobs=-1)]: Using backend LokyBackend with 4 concurrent workers.\n",
      "[Parallel(n_jobs=-1)]: Done  36 out of  36 | elapsed:   11.9s finished\n"
     ]
    },
    {
     "name": "stdout",
     "output_type": "stream",
     "text": [
      "Fitting 3 folds for each of 1 candidates, totalling 3 fits\n"
     ]
    },
    {
     "name": "stderr",
     "output_type": "stream",
     "text": [
      "[Parallel(n_jobs=-1)]: Using backend LokyBackend with 4 concurrent workers.\n",
      "[Parallel(n_jobs=-1)]: Done   3 out of   3 | elapsed:    1.6s finished\n"
     ]
    },
    {
     "name": "stdout",
     "output_type": "stream",
     "text": [
      "Fitting 3 folds for each of 16 candidates, totalling 48 fits\n"
     ]
    },
    {
     "name": "stderr",
     "output_type": "stream",
     "text": [
      "[Parallel(n_jobs=-1)]: Using backend LokyBackend with 4 concurrent workers.\n",
      "[Parallel(n_jobs=-1)]: Done  48 out of  48 | elapsed:   15.4s finished\n"
     ]
    },
    {
     "name": "stdout",
     "output_type": "stream",
     "text": [
      "Fitting 3 folds for each of 1 candidates, totalling 3 fits\n"
     ]
    },
    {
     "name": "stderr",
     "output_type": "stream",
     "text": [
      "[Parallel(n_jobs=-1)]: Using backend LokyBackend with 4 concurrent workers.\n",
      "[Parallel(n_jobs=-1)]: Done   3 out of   3 | elapsed:    3.4s finished\n"
     ]
    },
    {
     "name": "stdout",
     "output_type": "stream",
     "text": [
      "Fitting 3 folds for each of 8 candidates, totalling 24 fits\n"
     ]
    },
    {
     "name": "stderr",
     "output_type": "stream",
     "text": [
      "[Parallel(n_jobs=-1)]: Using backend LokyBackend with 4 concurrent workers.\n",
      "[Parallel(n_jobs=-1)]: Done  24 out of  24 | elapsed:    8.8s finished\n"
     ]
    },
    {
     "data": {
      "text/plain": [
       "GridSearchCV(cv=3,\n",
       "             estimator=Pipeline(steps=[('tvec', TfidfVectorizer()),\n",
       "                                       ('pac', PassiveAggressiveClassifier())]),\n",
       "             n_jobs=-1,\n",
       "             param_grid={'pac__C': [0.003, 0.01, 0.03, 0.1],\n",
       "                         'pac__loss': ['hinge', 'squared_hinge'],\n",
       "                         'tvec__max_features': [2000],\n",
       "                         'tvec__ngram_range': [(1, 2)],\n",
       "                         'tvec__stop_words': ['english']},\n",
       "             verbose=1)"
      ]
     },
     "execution_count": 201,
     "metadata": {},
     "output_type": "execute_result"
    }
   ],
   "source": [
    "# Fit\n",
    "# Setting up GridSearch for TFIDFVectorizer\n",
    "tvc_gs = GridSearchCV(tvc_pipe, param_grid=tf_params, cv = 3, verbose =1, n_jobs = -1)\n",
    "# Setting up GridSearch for Randomforest, Logisticegression,XGBoost Classifier and PassiveAgressiveClassifier\n",
    "rf_gs = GridSearchCV(rf_pipe, param_grid=rf_params, cv = 3, verbose = 1, n_jobs = -1)\n",
    "lr_gs =GridSearchCV(lr_pipe, param_grid=lr_params, cv = 3, verbose = 1, n_jobs = -1)\n",
    "xgb_gs =GridSearchCV(xgb_pipe, param_grid=xgb_params, cv = 3, verbose = 1, n_jobs = -1)\n",
    "pac_gs = GridSearchCV(pac_pipe, param_grid=pac_params, cv = 3, verbose = 1, n_jobs = -1)\n",
    "\n",
    "# Fitting TVC GS\n",
    "tvc_gs.fit(X_train, y_train)\n",
    "# Fitting Randomforest CV GS\n",
    "rf_gs.fit(X_train, y_train)\n",
    "lr_gs.fit(X_train, y_train)\n",
    "xgb_gs.fit(X_train, y_train)\n",
    "pac_gs.fit(X_train, y_train)"
   ]
  },
  {
   "cell_type": "code",
   "execution_count": 202,
   "metadata": {},
   "outputs": [],
   "source": [
    "predictions_rfc_cv=rf_gs.predict(X_test)\n",
    "predictions_lr_cv=lr_gs.predict(X_test)\n",
    "predictions_xgb_cv=xgb_gs.predict(X_test)\n",
    "predictions_pac_cv=pac_gs.predict(X_test)\n",
    "\n"
   ]
  },
  {
   "cell_type": "code",
   "execution_count": 206,
   "metadata": {},
   "outputs": [
    {
     "name": "stdout",
     "output_type": "stream",
     "text": [
      "[[53 15]\n",
      " [11 61]]\n",
      "\n",
      "\n",
      "              precision    recall  f1-score   support\n",
      "\n",
      "         0.0       0.83      0.78      0.80        68\n",
      "         1.0       0.80      0.85      0.82        72\n",
      "\n",
      "    accuracy                           0.81       140\n",
      "   macro avg       0.82      0.81      0.81       140\n",
      "weighted avg       0.82      0.81      0.81       140\n",
      "\n",
      "[[59  9]\n",
      " [11 61]]\n",
      "\n",
      "\n",
      "              precision    recall  f1-score   support\n",
      "\n",
      "         0.0       0.84      0.87      0.86        68\n",
      "         1.0       0.87      0.85      0.86        72\n",
      "\n",
      "    accuracy                           0.86       140\n",
      "   macro avg       0.86      0.86      0.86       140\n",
      "weighted avg       0.86      0.86      0.86       140\n",
      "\n",
      "[[53 15]\n",
      " [13 59]]\n",
      "\n",
      "\n",
      "              precision    recall  f1-score   support\n",
      "\n",
      "         0.0       0.80      0.78      0.79        68\n",
      "         1.0       0.80      0.82      0.81        72\n",
      "\n",
      "    accuracy                           0.80       140\n",
      "   macro avg       0.80      0.80      0.80       140\n",
      "weighted avg       0.80      0.80      0.80       140\n",
      "\n",
      "[[58 10]\n",
      " [11 61]]\n",
      "\n",
      "\n",
      "              precision    recall  f1-score   support\n",
      "\n",
      "         0.0       0.84      0.85      0.85        68\n",
      "         1.0       0.86      0.85      0.85        72\n",
      "\n",
      "    accuracy                           0.85       140\n",
      "   macro avg       0.85      0.85      0.85       140\n",
      "weighted avg       0.85      0.85      0.85       140\n",
      "\n"
     ]
    }
   ],
   "source": [
    "print(confusion_matrix(y_test, predictions_rfc_cv))\n",
    "print('\\n')\n",
    "print(classification_report(y_test, predictions_rfc_cv))\n",
    "\n",
    "print(confusion_matrix(y_test, predictions_lr_cv))\n",
    "print('\\n')\n",
    "print(classification_report(y_test, predictions_lr_cv))\n",
    "\n",
    "print(confusion_matrix(y_test, predictions_xgb_cv))\n",
    "print('\\n')\n",
    "print(classification_report(y_test, predictions_xgb_cv))\n",
    "\n",
    "print(confusion_matrix(y_test, predictions_pac_cv))\n",
    "print('\\n')\n",
    "print(classification_report(y_test, predictions_pac_cv))"
   ]
  },
  {
   "cell_type": "code",
   "execution_count": 205,
   "metadata": {},
   "outputs": [
    {
     "name": "stdout",
     "output_type": "stream",
     "text": [
      "TFID score on train: 0.8850987432675045\n",
      "TFID score on test: 0.7785714285714286\n",
      "RF score on train: 0.933572710951526\n",
      "LR score on train: 0.9658886894075404\n",
      "XGB score on train: 0.9622980251346499\n",
      "PassiveAC score on train: 0.9622980251346499\n",
      "RF score on test: 0.8142857142857143\n",
      "LR score on test: 0.8571428571428571\n",
      "XGB score on test: 0.8\n",
      "PassiveAC score on test: 0.85\n"
     ]
    }
   ],
   "source": [
    "# Scoring Training data on TFIDFVectorizer\n",
    "print('TFID score on train:' ,tvc_gs.score(X_train, y_train))\n",
    "\n",
    "# Scoring Test data on TFIDFVectorizer\n",
    "print('TFID score on test:' ,tvc_gs.score(X_test, y_test))\n",
    "\n",
    "# Scoring Training data on all models\n",
    "print('RF score on train:' ,rf_gs.score(X_train, y_train))\n",
    "print('LR score on train:' ,lr_gs.score(X_train, y_train))\n",
    "print('XGB score on train:' ,xgb_gs.score(X_train, y_train))\n",
    "print('PassiveAC score on train:' ,pac_gs.score(X_train, y_train))\n",
    "# Checking Test score on all models\n",
    "print('RF score on test:' ,rf_gs.score(X_test, y_test))\n",
    "print('LR score on test:' ,lr_gs.score(X_test, y_test))\n",
    "print('XGB score on test:' ,xgb_gs.score(X_test, y_test))\n",
    "print('PassiveAC score on test:' ,pac_gs.score(X_test, y_test))"
   ]
  },
  {
   "cell_type": "markdown",
   "metadata": {},
   "source": [
    "# Gossip - No CV as the data is huge"
   ]
  },
  {
   "cell_type": "code",
   "execution_count": 253,
   "metadata": {},
   "outputs": [
    {
     "data": {
      "text/plain": [
       "<matplotlib.axes._subplots.AxesSubplot object at 0x178dbce80>"
      ]
     },
     "execution_count": 253,
     "metadata": {},
     "output_type": "execute_result"
    },
    {
     "data": {
      "image/png": "[encoded data removed]",
      "text/plain": [
       "<Figure size 432x288 with 1 Axes>"
      ]
     },
     "metadata": {},
     "output_type": "display_data"
    }
   ],
   "source": [
    "sns.set_style(\"darkgrid\")\n",
    "sns.countplot(gossip.target)"
   ]
  },
  {
   "cell_type": "code",
   "execution_count": 255,
   "metadata": {},
   "outputs": [
    {
     "name": "stdout",
     "output_type": "stream",
     "text": [
      "Random under-sampling:\n",
      "1.0    4900\n",
      "0.0    4900\n",
      "Name: is_fake, dtype: int64\n",
      "(9800, 10)\n"
     ]
    },
    {
     "data": {
      "image/png": "[encoded data removed]",
      "text/plain": [
       "<Figure size 432x288 with 1 Axes>"
      ]
     },
     "metadata": {},
     "output_type": "display_data"
    }
   ],
   "source": [
    "# Class count\n",
    "count_class_real, count_class_fake = gossip.is_fake.value_counts()\n",
    "\n",
    "# Divide by class\n",
    "df_class_real = gossip[gossip['is_fake'] == 0.0]\n",
    "df_class_fake = gossip[gossip['is_fake'] == 1.0]\n",
    "\n",
    "\n",
    "df_class_real_under = df_class_real.sample(count_class_fake)\n",
    "gossip = pd.concat([df_class_real_under, df_class_fake], axis=0)\n",
    "\n",
    "print('Random under-sampling:')\n",
    "print(gossip.is_fake.value_counts())\n",
    "\n",
    "gossip.is_fake.value_counts().plot(kind='bar', title='Count (target)');\n",
    "\n",
    "gossip.head()\n",
    "print(gossip.shape)"
   ]
  },
  {
   "cell_type": "code",
   "execution_count": 256,
   "metadata": {},
   "outputs": [],
   "source": [
    "X=gossip['all']\n",
    "y=gossip['is_fake']\n",
    "X_train, X_test, y_train, y_test = train_test_split(X, y, test_size=0.2, random_state=42)"
   ]
  },
  {
   "cell_type": "code",
   "execution_count": 257,
   "metadata": {},
   "outputs": [],
   "source": [
    "rfc2=Pipeline([\n",
    "    ('bow',CountVectorizer()),\n",
    "    ('tfidf',TfidfTransformer()),\n",
    "    ('classifier',RandomForestClassifier())])"
   ]
  },
  {
   "cell_type": "code",
   "execution_count": 258,
   "metadata": {},
   "outputs": [],
   "source": [
    "rfc2.fit(X_train,y_train)\n",
    "predictions_rfc2=rfc2.predict(X_test)"
   ]
  },
  {
   "cell_type": "code",
   "execution_count": 259,
   "metadata": {},
   "outputs": [
    {
     "name": "stdout",
     "output_type": "stream",
     "text": [
      "[[823 168]\n",
      " [239 730]]\n",
      "\n",
      "\n",
      "              precision    recall  f1-score   support\n",
      "\n",
      "         0.0       0.77      0.83      0.80       991\n",
      "         1.0       0.81      0.75      0.78       969\n",
      "\n",
      "    accuracy                           0.79      1960\n",
      "   macro avg       0.79      0.79      0.79      1960\n",
      "weighted avg       0.79      0.79      0.79      1960\n",
      "\n"
     ]
    }
   ],
   "source": [
    "print(confusion_matrix(y_test, predictions_rfc2))\n",
    "print('\\n')\n",
    "print(classification_report(y_test, predictions_rfc2))"
   ]
  },
  {
   "cell_type": "code",
   "execution_count": 260,
   "metadata": {},
   "outputs": [],
   "source": [
    "lr2=Pipeline([\n",
    "    ('bow',CountVectorizer()),\n",
    "    ('tfidf',TfidfTransformer()),\n",
    "    ('classifier',LogisticRegression())])"
   ]
  },
  {
   "cell_type": "code",
   "execution_count": 261,
   "metadata": {},
   "outputs": [],
   "source": [
    "lr2.fit(X_train,y_train)\n",
    "predictions_lr2=lr2.predict(X_test)"
   ]
  },
  {
   "cell_type": "code",
   "execution_count": 262,
   "metadata": {},
   "outputs": [
    {
     "name": "stdout",
     "output_type": "stream",
     "text": [
      "[[855 136]\n",
      " [254 715]]\n",
      "\n",
      "\n",
      "              precision    recall  f1-score   support\n",
      "\n",
      "         0.0       0.77      0.86      0.81       991\n",
      "         1.0       0.84      0.74      0.79       969\n",
      "\n",
      "    accuracy                           0.80      1960\n",
      "   macro avg       0.81      0.80      0.80      1960\n",
      "weighted avg       0.81      0.80      0.80      1960\n",
      "\n"
     ]
    }
   ],
   "source": [
    "print(confusion_matrix(y_test, predictions_lr2))\n",
    "print('\\n')\n",
    "print(classification_report(y_test, predictions_lr2))"
   ]
  },
  {
   "cell_type": "code",
   "execution_count": 263,
   "metadata": {},
   "outputs": [],
   "source": [
    "pac2=Pipeline([\n",
    "    ('bow',CountVectorizer()),\n",
    "    ('tfidf',TfidfTransformer()),\n",
    "    ('classifier',PassiveAggressiveClassifier())])"
   ]
  },
  {
   "cell_type": "code",
   "execution_count": 264,
   "metadata": {},
   "outputs": [],
   "source": [
    "pac2.fit(X_train,y_train)\n",
    "predictions_pac2=pac2.predict(X_test)"
   ]
  },
  {
   "cell_type": "code",
   "execution_count": 265,
   "metadata": {},
   "outputs": [
    {
     "name": "stdout",
     "output_type": "stream",
     "text": [
      "[[769 222]\n",
      " [228 741]]\n",
      "\n",
      "\n",
      "              precision    recall  f1-score   support\n",
      "\n",
      "         0.0       0.77      0.78      0.77       991\n",
      "         1.0       0.77      0.76      0.77       969\n",
      "\n",
      "    accuracy                           0.77      1960\n",
      "   macro avg       0.77      0.77      0.77      1960\n",
      "weighted avg       0.77      0.77      0.77      1960\n",
      "\n"
     ]
    }
   ],
   "source": [
    "print(confusion_matrix(y_test, predictions_pac2))\n",
    "print('\\n')\n",
    "print(classification_report(y_test, predictions_pac2))"
   ]
  },
  {
   "cell_type": "code",
   "execution_count": 266,
   "metadata": {},
   "outputs": [],
   "source": [
    "xgb2=Pipeline([\n",
    "    ('bow',CountVectorizer()),\n",
    "    ('tfidf',TfidfTransformer()),\n",
    "    ('classifier',XGBClassifier())])"
   ]
  },
  {
   "cell_type": "code",
   "execution_count": 267,
   "metadata": {},
   "outputs": [],
   "source": [
    "xgb2.fit(X_train,y_train)\n",
    "predictions_xgb2=xgb2.predict(X_test)"
   ]
  },
  {
   "cell_type": "code",
   "execution_count": 268,
   "metadata": {},
   "outputs": [
    {
     "name": "stdout",
     "output_type": "stream",
     "text": [
      "[[816 175]\n",
      " [281 688]]\n",
      "\n",
      "\n",
      "              precision    recall  f1-score   support\n",
      "\n",
      "         0.0       0.74      0.82      0.78       991\n",
      "         1.0       0.80      0.71      0.75       969\n",
      "\n",
      "    accuracy                           0.77      1960\n",
      "   macro avg       0.77      0.77      0.77      1960\n",
      "weighted avg       0.77      0.77      0.77      1960\n",
      "\n"
     ]
    }
   ],
   "source": [
    "print(confusion_matrix(y_test, predictions_xgb2))\n",
    "print('\\n')\n",
    "print(classification_report(y_test, predictions_xgb2))"
   ]
  },
  {
   "cell_type": "markdown",
   "metadata": {},
   "source": [
    "# Covid"
   ]
  },
  {
   "cell_type": "code",
   "execution_count": 254,
   "metadata": {},
   "outputs": [
    {
     "data": {
      "text/plain": [
       "<matplotlib.axes._subplots.AxesSubplot object at 0x178e82e50>"
      ]
     },
     "execution_count": 254,
     "metadata": {},
     "output_type": "execute_result"
    },
    {
     "data": {
      "image/png": "[encoded data removed]",
      "text/plain": [
       "<Figure size 432x288 with 1 Axes>"
      ]
     },
     "metadata": {},
     "output_type": "display_data"
    }
   ],
   "source": [
    "sns.set_style(\"darkgrid\")\n",
    "sns.countplot(covid.target)"
   ]
  },
  {
   "cell_type": "code",
   "execution_count": 269,
   "metadata": {},
   "outputs": [
    {
     "name": "stdout",
     "output_type": "stream",
     "text": [
      "Random under-sampling:\n",
      "1.0    575\n",
      "0.0    310\n",
      "Name: is_fake, dtype: int64\n",
      "(885, 10)\n"
     ]
    },
    {
     "data": {
      "image/png": "[encoded data removed]",
      "text/plain": [
       "<Figure size 432x288 with 1 Axes>"
      ]
     },
     "metadata": {},
     "output_type": "display_data"
    }
   ],
   "source": [
    "# Class count\n",
    "count_class_real, count_class_fake = covid.is_fake.value_counts()\n",
    "\n",
    "# Divide by class\n",
    "df_class_real = covid[covid['is_fake'] == 0.0]\n",
    "df_class_fake = covid[covid['is_fake'] == 1.0]\n",
    "\n",
    "\n",
    "df_class_real_under = df_class_real.sample(count_class_fake)\n",
    "covid = pd.concat([df_class_real_under, df_class_fake], axis=0)\n",
    "\n",
    "print('Random under-sampling:')\n",
    "print(covid.is_fake.value_counts())\n",
    "\n",
    "covid.is_fake.value_counts().plot(kind='bar', title='Count (target)');\n",
    "\n",
    "covid.head()\n",
    "print(covid.shape)"
   ]
  },
  {
   "cell_type": "code",
   "execution_count": 207,
   "metadata": {},
   "outputs": [],
   "source": [
    "X=covid['all']\n",
    "y=covid['is_fake']\n",
    "X_train, X_test, y_train, y_test = train_test_split(X, y, test_size=0.2, random_state=42)"
   ]
  },
  {
   "cell_type": "code",
   "execution_count": 120,
   "metadata": {},
   "outputs": [],
   "source": [
    "rfc3=Pipeline([\n",
    "    ('bow',CountVectorizer()),\n",
    "    ('tfidf',TfidfTransformer()),\n",
    "    ('classifier',RandomForestClassifier())])"
   ]
  },
  {
   "cell_type": "code",
   "execution_count": 121,
   "metadata": {},
   "outputs": [],
   "source": [
    "rfc3.fit(X_train,y_train)\n",
    "predictions_rfc3=rfc3.predict(X_test)"
   ]
  },
  {
   "cell_type": "code",
   "execution_count": 122,
   "metadata": {},
   "outputs": [
    {
     "name": "stdout",
     "output_type": "stream",
     "text": [
      "[[ 51  17]\n",
      " [  4 107]]\n",
      "\n",
      "\n",
      "              precision    recall  f1-score   support\n",
      "\n",
      "         0.0       0.93      0.75      0.83        68\n",
      "         1.0       0.86      0.96      0.91       111\n",
      "\n",
      "    accuracy                           0.88       179\n",
      "   macro avg       0.90      0.86      0.87       179\n",
      "weighted avg       0.89      0.88      0.88       179\n",
      "\n"
     ]
    }
   ],
   "source": [
    "print(confusion_matrix(y_test, predictions_rfc3))\n",
    "print('\\n')\n",
    "print(classification_report(y_test, predictions_rfc3))"
   ]
  },
  {
   "cell_type": "code",
   "execution_count": 123,
   "metadata": {},
   "outputs": [],
   "source": [
    "lr3=Pipeline([\n",
    "    ('bow',CountVectorizer()),\n",
    "    ('tfidf',TfidfTransformer()),\n",
    "    ('classifier',LogisticRegression())])"
   ]
  },
  {
   "cell_type": "code",
   "execution_count": 124,
   "metadata": {},
   "outputs": [],
   "source": [
    "lr3.fit(X_train,y_train)\n",
    "predictions_lr3=lr3.predict(X_test)"
   ]
  },
  {
   "cell_type": "code",
   "execution_count": 125,
   "metadata": {},
   "outputs": [
    {
     "name": "stdout",
     "output_type": "stream",
     "text": [
      "[[ 39  29]\n",
      " [  2 109]]\n",
      "\n",
      "\n",
      "              precision    recall  f1-score   support\n",
      "\n",
      "         0.0       0.95      0.57      0.72        68\n",
      "         1.0       0.79      0.98      0.88       111\n",
      "\n",
      "    accuracy                           0.83       179\n",
      "   macro avg       0.87      0.78      0.80       179\n",
      "weighted avg       0.85      0.83      0.81       179\n",
      "\n"
     ]
    }
   ],
   "source": [
    "print(confusion_matrix(y_test, predictions_lr3))\n",
    "print('\\n')\n",
    "print(classification_report(y_test, predictions_lr3))"
   ]
  },
  {
   "cell_type": "code",
   "execution_count": 127,
   "metadata": {},
   "outputs": [],
   "source": [
    "pac3=Pipeline([\n",
    "    ('bow',CountVectorizer()),\n",
    "    ('tfidf',TfidfTransformer()),\n",
    "    ('classifier',PassiveAggressiveClassifier())])"
   ]
  },
  {
   "cell_type": "code",
   "execution_count": 128,
   "metadata": {},
   "outputs": [],
   "source": [
    "pac3.fit(X_train,y_train)\n",
    "predictions_pac3=pac3.predict(X_test)"
   ]
  },
  {
   "cell_type": "code",
   "execution_count": 129,
   "metadata": {},
   "outputs": [
    {
     "name": "stdout",
     "output_type": "stream",
     "text": [
      "[[ 55  13]\n",
      " [  7 104]]\n",
      "\n",
      "\n",
      "              precision    recall  f1-score   support\n",
      "\n",
      "         0.0       0.89      0.81      0.85        68\n",
      "         1.0       0.89      0.94      0.91       111\n",
      "\n",
      "    accuracy                           0.89       179\n",
      "   macro avg       0.89      0.87      0.88       179\n",
      "weighted avg       0.89      0.89      0.89       179\n",
      "\n"
     ]
    }
   ],
   "source": [
    "print(confusion_matrix(y_test, predictions_pac3))\n",
    "print('\\n')\n",
    "print(classification_report(y_test, predictions_pac3))"
   ]
  },
  {
   "cell_type": "code",
   "execution_count": 130,
   "metadata": {},
   "outputs": [],
   "source": [
    "xgb3=Pipeline([\n",
    "    ('bow',CountVectorizer()),\n",
    "    ('tfidf',TfidfTransformer()),\n",
    "    ('classifier',XGBClassifier())])"
   ]
  },
  {
   "cell_type": "code",
   "execution_count": 131,
   "metadata": {},
   "outputs": [],
   "source": [
    "xgb3.fit(X_train,y_train)\n",
    "predictions_xgb3=xgb3.predict(X_test)"
   ]
  },
  {
   "cell_type": "code",
   "execution_count": 132,
   "metadata": {},
   "outputs": [
    {
     "name": "stdout",
     "output_type": "stream",
     "text": [
      "[[ 51  17]\n",
      " [ 11 100]]\n",
      "\n",
      "\n",
      "              precision    recall  f1-score   support\n",
      "\n",
      "         0.0       0.82      0.75      0.78        68\n",
      "         1.0       0.85      0.90      0.88       111\n",
      "\n",
      "    accuracy                           0.84       179\n",
      "   macro avg       0.84      0.83      0.83       179\n",
      "weighted avg       0.84      0.84      0.84       179\n",
      "\n"
     ]
    }
   ],
   "source": [
    "print(confusion_matrix(y_test, predictions_xgb3))\n",
    "print('\\n')\n",
    "print(classification_report(y_test, predictions_xgb3))"
   ]
  },
  {
   "cell_type": "markdown",
   "metadata": {},
   "source": [
    "# With cross-validation"
   ]
  },
  {
   "cell_type": "code",
   "execution_count": 208,
   "metadata": {},
   "outputs": [
    {
     "name": "stdout",
     "output_type": "stream",
     "text": [
      "Fitting 3 folds for each of 12 candidates, totalling 36 fits\n"
     ]
    },
    {
     "name": "stderr",
     "output_type": "stream",
     "text": [
      "[Parallel(n_jobs=-1)]: Using backend LokyBackend with 4 concurrent workers.\n",
      "[Parallel(n_jobs=-1)]: Done  36 out of  36 | elapsed:   11.9s finished\n"
     ]
    },
    {
     "name": "stdout",
     "output_type": "stream",
     "text": [
      "Fitting 3 folds for each of 1 candidates, totalling 3 fits\n"
     ]
    },
    {
     "name": "stderr",
     "output_type": "stream",
     "text": [
      "[Parallel(n_jobs=-1)]: Using backend LokyBackend with 4 concurrent workers.\n",
      "[Parallel(n_jobs=-1)]: Done   3 out of   3 | elapsed:    1.8s finished\n"
     ]
    },
    {
     "name": "stdout",
     "output_type": "stream",
     "text": [
      "Fitting 3 folds for each of 16 candidates, totalling 48 fits\n"
     ]
    },
    {
     "name": "stderr",
     "output_type": "stream",
     "text": [
      "[Parallel(n_jobs=-1)]: Using backend LokyBackend with 4 concurrent workers.\n",
      "[Parallel(n_jobs=-1)]: Done  48 out of  48 | elapsed:   13.9s finished\n"
     ]
    },
    {
     "name": "stdout",
     "output_type": "stream",
     "text": [
      "Fitting 3 folds for each of 1 candidates, totalling 3 fits\n"
     ]
    },
    {
     "name": "stderr",
     "output_type": "stream",
     "text": [
      "[Parallel(n_jobs=-1)]: Using backend LokyBackend with 4 concurrent workers.\n",
      "[Parallel(n_jobs=-1)]: Done   3 out of   3 | elapsed:    3.7s finished\n"
     ]
    },
    {
     "name": "stdout",
     "output_type": "stream",
     "text": [
      "Fitting 3 folds for each of 8 candidates, totalling 24 fits\n"
     ]
    },
    {
     "name": "stderr",
     "output_type": "stream",
     "text": [
      "[Parallel(n_jobs=-1)]: Using backend LokyBackend with 4 concurrent workers.\n",
      "[Parallel(n_jobs=-1)]: Done  24 out of  24 | elapsed:    7.9s finished\n"
     ]
    },
    {
     "data": {
      "text/plain": [
       "GridSearchCV(cv=3,\n",
       "             estimator=Pipeline(steps=[('tvec', TfidfVectorizer()),\n",
       "                                       ('pac', PassiveAggressiveClassifier())]),\n",
       "             n_jobs=-1,\n",
       "             param_grid={'pac__C': [0.003, 0.01, 0.03, 0.1],\n",
       "                         'pac__loss': ['hinge', 'squared_hinge'],\n",
       "                         'tvec__max_features': [2000],\n",
       "                         'tvec__ngram_range': [(1, 2)],\n",
       "                         'tvec__stop_words': ['english']},\n",
       "             verbose=1)"
      ]
     },
     "execution_count": 208,
     "metadata": {},
     "output_type": "execute_result"
    }
   ],
   "source": [
    "# Fit\n",
    "# Setting up GridSearch for TFIDFVectorizer\n",
    "tvc_gs = GridSearchCV(tvc_pipe, param_grid=tf_params, cv = 3, verbose =1, n_jobs = -1)\n",
    "# Setting up GridSearch for Randomforest, Logisticegression,XGBoost Classifier and PassiveAgressiveClassifier\n",
    "rf_gs = GridSearchCV(rf_pipe, param_grid=rf_params, cv = 3, verbose = 1, n_jobs = -1)\n",
    "lr_gs =GridSearchCV(lr_pipe, param_grid=lr_params, cv = 3, verbose = 1, n_jobs = -1)\n",
    "xgb_gs =GridSearchCV(xgb_pipe, param_grid=xgb_params, cv = 3, verbose = 1, n_jobs = -1)\n",
    "pac_gs = GridSearchCV(pac_pipe, param_grid=pac_params, cv = 3, verbose = 1, n_jobs = -1)\n",
    "\n",
    "# Fitting TVC GS\n",
    "tvc_gs.fit(X_train, y_train)\n",
    "# Fitting Randomforest CV GS\n",
    "rf_gs.fit(X_train, y_train)\n",
    "lr_gs.fit(X_train, y_train)\n",
    "xgb_gs.fit(X_train, y_train)\n",
    "pac_gs.fit(X_train, y_train)"
   ]
  },
  {
   "cell_type": "code",
   "execution_count": 209,
   "metadata": {},
   "outputs": [],
   "source": [
    "predictions_rfc_cv=rf_gs.predict(X_test)\n",
    "predictions_lr_cv=lr_gs.predict(X_test)\n",
    "predictions_xgb_cv=xgb_gs.predict(X_test)\n",
    "predictions_pac_cv=pac_gs.predict(X_test)\n",
    "\n"
   ]
  },
  {
   "cell_type": "code",
   "execution_count": 210,
   "metadata": {},
   "outputs": [
    {
     "name": "stdout",
     "output_type": "stream",
     "text": [
      "[[ 55  14]\n",
      " [  4 107]]\n",
      "\n",
      "\n",
      "              precision    recall  f1-score   support\n",
      "\n",
      "         0.0       0.93      0.80      0.86        69\n",
      "         1.0       0.88      0.96      0.92       111\n",
      "\n",
      "    accuracy                           0.90       180\n",
      "   macro avg       0.91      0.88      0.89       180\n",
      "weighted avg       0.90      0.90      0.90       180\n",
      "\n",
      "[[ 60   9]\n",
      " [  5 106]]\n",
      "\n",
      "\n",
      "              precision    recall  f1-score   support\n",
      "\n",
      "         0.0       0.92      0.87      0.90        69\n",
      "         1.0       0.92      0.95      0.94       111\n",
      "\n",
      "    accuracy                           0.92       180\n",
      "   macro avg       0.92      0.91      0.92       180\n",
      "weighted avg       0.92      0.92      0.92       180\n",
      "\n",
      "[[ 56  13]\n",
      " [  9 102]]\n",
      "\n",
      "\n",
      "              precision    recall  f1-score   support\n",
      "\n",
      "         0.0       0.86      0.81      0.84        69\n",
      "         1.0       0.89      0.92      0.90       111\n",
      "\n",
      "    accuracy                           0.88       180\n",
      "   macro avg       0.87      0.87      0.87       180\n",
      "weighted avg       0.88      0.88      0.88       180\n",
      "\n",
      "[[ 60   9]\n",
      " [  4 107]]\n",
      "\n",
      "\n",
      "              precision    recall  f1-score   support\n",
      "\n",
      "         0.0       0.94      0.87      0.90        69\n",
      "         1.0       0.92      0.96      0.94       111\n",
      "\n",
      "    accuracy                           0.93       180\n",
      "   macro avg       0.93      0.92      0.92       180\n",
      "weighted avg       0.93      0.93      0.93       180\n",
      "\n"
     ]
    }
   ],
   "source": [
    "print(confusion_matrix(y_test, predictions_rfc_cv))\n",
    "print('\\n')\n",
    "print(classification_report(y_test, predictions_rfc_cv))\n",
    "\n",
    "print(confusion_matrix(y_test, predictions_lr_cv))\n",
    "print('\\n')\n",
    "print(classification_report(y_test, predictions_lr_cv))\n",
    "\n",
    "print(confusion_matrix(y_test, predictions_xgb_cv))\n",
    "print('\\n')\n",
    "print(classification_report(y_test, predictions_xgb_cv))\n",
    "\n",
    "print(confusion_matrix(y_test, predictions_pac_cv))\n",
    "print('\\n')\n",
    "print(classification_report(y_test, predictions_pac_cv))"
   ]
  },
  {
   "cell_type": "code",
   "execution_count": 211,
   "metadata": {},
   "outputs": [
    {
     "name": "stdout",
     "output_type": "stream",
     "text": [
      "TFID score on train: 0.9316596931659693\n",
      "TFID score on test: 0.9166666666666666\n",
      "RF score on train: 0.9860529986052998\n",
      "LR score on train: 0.99860529986053\n",
      "XGB score on train: 0.99860529986053\n",
      "PassiveAC score on train: 0.99860529986053\n",
      "RF score on test: 0.9\n",
      "LR score on test: 0.9222222222222223\n",
      "XGB score on test: 0.8777777777777778\n",
      "PassiveAC score on test: 0.9277777777777778\n"
     ]
    }
   ],
   "source": [
    "# Scoring Training data on TFIDFVectorizer\n",
    "print('TFID score on train:' ,tvc_gs.score(X_train, y_train))\n",
    "\n",
    "# Scoring Test data on TFIDFVectorizer\n",
    "print('TFID score on test:' ,tvc_gs.score(X_test, y_test))\n",
    "\n",
    "# Scoring Training data on all models\n",
    "print('RF score on train:' ,rf_gs.score(X_train, y_train))\n",
    "print('LR score on train:' ,lr_gs.score(X_train, y_train))\n",
    "print('XGB score on train:' ,xgb_gs.score(X_train, y_train))\n",
    "print('PassiveAC score on train:' ,pac_gs.score(X_train, y_train))\n",
    "# Checking Test score on all models\n",
    "print('RF score on test:' ,rf_gs.score(X_test, y_test))\n",
    "print('LR score on test:' ,lr_gs.score(X_test, y_test))\n",
    "print('XGB score on test:' ,xgb_gs.score(X_test, y_test))\n",
    "print('PassiveAC score on test:' ,pac_gs.score(X_test, y_test))"
   ]
  },
  {
   "cell_type": "markdown",
   "metadata": {},
   "source": [
    "# Disaster "
   ]
  },
  {
   "cell_type": "code",
   "execution_count": 277,
   "metadata": {},
   "outputs": [
    {
     "name": "stdout",
     "output_type": "stream",
     "text": [
      "(7613, 9)\n"
     ]
    },
    {
     "data": {
      "text/html": [
       "<div>\n",
       "<style scoped>\n",
       "    .dataframe tbody tr th:only-of-type {\n",
       "        vertical-align: middle;\n",
       "    }\n",
       "\n",
       "    .dataframe tbody tr th {\n",
       "        vertical-align: top;\n",
       "    }\n",
       "\n",
       "    .dataframe thead th {\n",
       "        text-align: right;\n",
       "    }\n",
       "</style>\n",
       "<table border=\"1\" class=\"dataframe\">\n",
       "  <thead>\n",
       "    <tr style=\"text-align: right;\">\n",
       "      <th></th>\n",
       "      <th>Unnamed: 0</th>\n",
       "      <th>id</th>\n",
       "      <th>title</th>\n",
       "      <th>text</th>\n",
       "      <th>source</th>\n",
       "      <th>target</th>\n",
       "      <th>clean_text</th>\n",
       "      <th>clean_title</th>\n",
       "      <th>news_class</th>\n",
       "    </tr>\n",
       "  </thead>\n",
       "  <tbody>\n",
       "    <tr>\n",
       "      <th>1341</th>\n",
       "      <td>1341</td>\n",
       "      <td>natural_disaster</td>\n",
       "      <td>NaN</td>\n",
       "      <td>Our Deeds are the Reason of this #earthquake M...</td>\n",
       "      <td>NaN</td>\n",
       "      <td>real</td>\n",
       "      <td>deed reason earthquake allah forgive</td>\n",
       "      <td>NaN</td>\n",
       "      <td>1</td>\n",
       "    </tr>\n",
       "    <tr>\n",
       "      <th>1342</th>\n",
       "      <td>1342</td>\n",
       "      <td>natural_disaster</td>\n",
       "      <td>NaN</td>\n",
       "      <td>Forest fire near La Ronge Sask. Canada</td>\n",
       "      <td>NaN</td>\n",
       "      <td>real</td>\n",
       "      <td>forest near la ronge sask canada</td>\n",
       "      <td>NaN</td>\n",
       "      <td>1</td>\n",
       "    </tr>\n",
       "    <tr>\n",
       "      <th>1343</th>\n",
       "      <td>1343</td>\n",
       "      <td>natural_disaster</td>\n",
       "      <td>NaN</td>\n",
       "      <td>All residents asked to 'shelter in place' are ...</td>\n",
       "      <td>NaN</td>\n",
       "      <td>real</td>\n",
       "      <td>resident asked shelter place notified officer ...</td>\n",
       "      <td>NaN</td>\n",
       "      <td>1</td>\n",
       "    </tr>\n",
       "    <tr>\n",
       "      <th>1344</th>\n",
       "      <td>1344</td>\n",
       "      <td>natural_disaster</td>\n",
       "      <td>NaN</td>\n",
       "      <td>13,000 people receive #wildfires evacuation or...</td>\n",
       "      <td>NaN</td>\n",
       "      <td>real</td>\n",
       "      <td>people receive wildfire evacuation order calif...</td>\n",
       "      <td>NaN</td>\n",
       "      <td>1</td>\n",
       "    </tr>\n",
       "    <tr>\n",
       "      <th>1345</th>\n",
       "      <td>1345</td>\n",
       "      <td>natural_disaster</td>\n",
       "      <td>NaN</td>\n",
       "      <td>Just got sent this photo from Ruby #Alaska as ...</td>\n",
       "      <td>NaN</td>\n",
       "      <td>real</td>\n",
       "      <td>got sent photo ruby alaska smoke wildfire pour...</td>\n",
       "      <td>NaN</td>\n",
       "      <td>1</td>\n",
       "    </tr>\n",
       "  </tbody>\n",
       "</table>\n",
       "</div>"
      ],
      "text/plain": [
       "      Unnamed: 0                id title  \\\n",
       "1341        1341  natural_disaster   NaN   \n",
       "1342        1342  natural_disaster   NaN   \n",
       "1343        1343  natural_disaster   NaN   \n",
       "1344        1344  natural_disaster   NaN   \n",
       "1345        1345  natural_disaster   NaN   \n",
       "\n",
       "                                                   text source target  \\\n",
       "1341  Our Deeds are the Reason of this #earthquake M...    NaN   real   \n",
       "1342             Forest fire near La Ronge Sask. Canada    NaN   real   \n",
       "1343  All residents asked to 'shelter in place' are ...    NaN   real   \n",
       "1344  13,000 people receive #wildfires evacuation or...    NaN   real   \n",
       "1345  Just got sent this photo from Ruby #Alaska as ...    NaN   real   \n",
       "\n",
       "                                             clean_text clean_title  \\\n",
       "1341               deed reason earthquake allah forgive         NaN   \n",
       "1342                   forest near la ronge sask canada         NaN   \n",
       "1343  resident asked shelter place notified officer ...         NaN   \n",
       "1344  people receive wildfire evacuation order calif...         NaN   \n",
       "1345  got sent photo ruby alaska smoke wildfire pour...         NaN   \n",
       "\n",
       "      news_class  \n",
       "1341           1  \n",
       "1342           1  \n",
       "1343           1  \n",
       "1344           1  \n",
       "1345           1  "
      ]
     },
     "execution_count": 277,
     "metadata": {},
     "output_type": "execute_result"
    }
   ],
   "source": [
    "df = pd.read_csv(\"/Users/gopalika14/Desktop/tweet_data_modeling.csv\")\n",
    "natural = df[df['id'].str.contains('natural')]\n",
    "print(natural.shape)\n",
    "natural.head()"
   ]
  },
  {
   "cell_type": "code",
   "execution_count": 278,
   "metadata": {},
   "outputs": [
    {
     "data": {
      "text/html": [
       "<div>\n",
       "<style scoped>\n",
       "    .dataframe tbody tr th:only-of-type {\n",
       "        vertical-align: middle;\n",
       "    }\n",
       "\n",
       "    .dataframe tbody tr th {\n",
       "        vertical-align: top;\n",
       "    }\n",
       "\n",
       "    .dataframe thead th {\n",
       "        text-align: right;\n",
       "    }\n",
       "</style>\n",
       "<table border=\"1\" class=\"dataframe\">\n",
       "  <thead>\n",
       "    <tr style=\"text-align: right;\">\n",
       "      <th></th>\n",
       "      <th>Unnamed: 0</th>\n",
       "      <th>id</th>\n",
       "      <th>title</th>\n",
       "      <th>text</th>\n",
       "      <th>source</th>\n",
       "      <th>target</th>\n",
       "      <th>clean_text</th>\n",
       "      <th>clean_title</th>\n",
       "      <th>is_fake</th>\n",
       "    </tr>\n",
       "  </thead>\n",
       "  <tbody>\n",
       "    <tr>\n",
       "      <th>1341</th>\n",
       "      <td>1341</td>\n",
       "      <td>natural_disaster</td>\n",
       "      <td>NaN</td>\n",
       "      <td>Our Deeds are the Reason of this #earthquake M...</td>\n",
       "      <td>NaN</td>\n",
       "      <td>real</td>\n",
       "      <td>deed reason earthquake allah forgive</td>\n",
       "      <td>NaN</td>\n",
       "      <td>0.0</td>\n",
       "    </tr>\n",
       "    <tr>\n",
       "      <th>1342</th>\n",
       "      <td>1342</td>\n",
       "      <td>natural_disaster</td>\n",
       "      <td>NaN</td>\n",
       "      <td>Forest fire near La Ronge Sask. Canada</td>\n",
       "      <td>NaN</td>\n",
       "      <td>real</td>\n",
       "      <td>forest near la ronge sask canada</td>\n",
       "      <td>NaN</td>\n",
       "      <td>0.0</td>\n",
       "    </tr>\n",
       "    <tr>\n",
       "      <th>1343</th>\n",
       "      <td>1343</td>\n",
       "      <td>natural_disaster</td>\n",
       "      <td>NaN</td>\n",
       "      <td>All residents asked to 'shelter in place' are ...</td>\n",
       "      <td>NaN</td>\n",
       "      <td>real</td>\n",
       "      <td>resident asked shelter place notified officer ...</td>\n",
       "      <td>NaN</td>\n",
       "      <td>0.0</td>\n",
       "    </tr>\n",
       "    <tr>\n",
       "      <th>1344</th>\n",
       "      <td>1344</td>\n",
       "      <td>natural_disaster</td>\n",
       "      <td>NaN</td>\n",
       "      <td>13,000 people receive #wildfires evacuation or...</td>\n",
       "      <td>NaN</td>\n",
       "      <td>real</td>\n",
       "      <td>people receive wildfire evacuation order calif...</td>\n",
       "      <td>NaN</td>\n",
       "      <td>0.0</td>\n",
       "    </tr>\n",
       "    <tr>\n",
       "      <th>1345</th>\n",
       "      <td>1345</td>\n",
       "      <td>natural_disaster</td>\n",
       "      <td>NaN</td>\n",
       "      <td>Just got sent this photo from Ruby #Alaska as ...</td>\n",
       "      <td>NaN</td>\n",
       "      <td>real</td>\n",
       "      <td>got sent photo ruby alaska smoke wildfire pour...</td>\n",
       "      <td>NaN</td>\n",
       "      <td>0.0</td>\n",
       "    </tr>\n",
       "  </tbody>\n",
       "</table>\n",
       "</div>"
      ],
      "text/plain": [
       "      Unnamed: 0                id title  \\\n",
       "1341        1341  natural_disaster   NaN   \n",
       "1342        1342  natural_disaster   NaN   \n",
       "1343        1343  natural_disaster   NaN   \n",
       "1344        1344  natural_disaster   NaN   \n",
       "1345        1345  natural_disaster   NaN   \n",
       "\n",
       "                                                   text source target  \\\n",
       "1341  Our Deeds are the Reason of this #earthquake M...    NaN   real   \n",
       "1342             Forest fire near La Ronge Sask. Canada    NaN   real   \n",
       "1343  All residents asked to 'shelter in place' are ...    NaN   real   \n",
       "1344  13,000 people receive #wildfires evacuation or...    NaN   real   \n",
       "1345  Just got sent this photo from Ruby #Alaska as ...    NaN   real   \n",
       "\n",
       "                                             clean_text clean_title  is_fake  \n",
       "1341               deed reason earthquake allah forgive         NaN      0.0  \n",
       "1342                   forest near la ronge sask canada         NaN      0.0  \n",
       "1343  resident asked shelter place notified officer ...         NaN      0.0  \n",
       "1344  people receive wildfire evacuation order calif...         NaN      0.0  \n",
       "1345  got sent photo ruby alaska smoke wildfire pour...         NaN      0.0  "
      ]
     },
     "execution_count": 278,
     "metadata": {},
     "output_type": "execute_result"
    }
   ],
   "source": [
    "indexfake = natural[ natural['target'] == \"fake\" ].index\n",
    "indexreal = natural[ natural['target'] == \"real\" ].index\n",
    "# now use df.loc to set values only to those rows\n",
    "natural.loc[indexfake,'is_fake'] = 1\n",
    "natural.loc[indexreal,'is_fake'] = 0\n",
    "natural = natural.drop('news_class', axis =1)\n",
    "natural.head()"
   ]
  },
  {
   "cell_type": "code",
   "execution_count": 280,
   "metadata": {},
   "outputs": [
    {
     "name": "stdout",
     "output_type": "stream",
     "text": [
      "string\n"
     ]
    },
    {
     "data": {
      "text/html": [
       "<div>\n",
       "<style scoped>\n",
       "    .dataframe tbody tr th:only-of-type {\n",
       "        vertical-align: middle;\n",
       "    }\n",
       "\n",
       "    .dataframe tbody tr th {\n",
       "        vertical-align: top;\n",
       "    }\n",
       "\n",
       "    .dataframe thead th {\n",
       "        text-align: right;\n",
       "    }\n",
       "</style>\n",
       "<table border=\"1\" class=\"dataframe\">\n",
       "  <thead>\n",
       "    <tr style=\"text-align: right;\">\n",
       "      <th></th>\n",
       "      <th>Unnamed: 0</th>\n",
       "      <th>id</th>\n",
       "      <th>title</th>\n",
       "      <th>text</th>\n",
       "      <th>source</th>\n",
       "      <th>target</th>\n",
       "      <th>clean_text</th>\n",
       "      <th>clean_title</th>\n",
       "      <th>is_fake</th>\n",
       "    </tr>\n",
       "  </thead>\n",
       "  <tbody>\n",
       "    <tr>\n",
       "      <th>1341</th>\n",
       "      <td>1341</td>\n",
       "      <td>natural_disaster</td>\n",
       "      <td></td>\n",
       "      <td>Our Deeds are the Reason of this #earthquake M...</td>\n",
       "      <td></td>\n",
       "      <td>real</td>\n",
       "      <td>deed reason earthquake allah forgive</td>\n",
       "      <td></td>\n",
       "      <td>0.0</td>\n",
       "    </tr>\n",
       "    <tr>\n",
       "      <th>1342</th>\n",
       "      <td>1342</td>\n",
       "      <td>natural_disaster</td>\n",
       "      <td></td>\n",
       "      <td>Forest fire near La Ronge Sask. Canada</td>\n",
       "      <td></td>\n",
       "      <td>real</td>\n",
       "      <td>forest near la ronge sask canada</td>\n",
       "      <td></td>\n",
       "      <td>0.0</td>\n",
       "    </tr>\n",
       "    <tr>\n",
       "      <th>1343</th>\n",
       "      <td>1343</td>\n",
       "      <td>natural_disaster</td>\n",
       "      <td></td>\n",
       "      <td>All residents asked to 'shelter in place' are ...</td>\n",
       "      <td></td>\n",
       "      <td>real</td>\n",
       "      <td>resident asked shelter place notified officer ...</td>\n",
       "      <td></td>\n",
       "      <td>0.0</td>\n",
       "    </tr>\n",
       "    <tr>\n",
       "      <th>1344</th>\n",
       "      <td>1344</td>\n",
       "      <td>natural_disaster</td>\n",
       "      <td></td>\n",
       "      <td>13,000 people receive #wildfires evacuation or...</td>\n",
       "      <td></td>\n",
       "      <td>real</td>\n",
       "      <td>people receive wildfire evacuation order calif...</td>\n",
       "      <td></td>\n",
       "      <td>0.0</td>\n",
       "    </tr>\n",
       "    <tr>\n",
       "      <th>1345</th>\n",
       "      <td>1345</td>\n",
       "      <td>natural_disaster</td>\n",
       "      <td></td>\n",
       "      <td>Just got sent this photo from Ruby #Alaska as ...</td>\n",
       "      <td></td>\n",
       "      <td>real</td>\n",
       "      <td>got sent photo ruby alaska smoke wildfire pour...</td>\n",
       "      <td></td>\n",
       "      <td>0.0</td>\n",
       "    </tr>\n",
       "  </tbody>\n",
       "</table>\n",
       "</div>"
      ],
      "text/plain": [
       "      Unnamed: 0                id title  \\\n",
       "1341        1341  natural_disaster         \n",
       "1342        1342  natural_disaster         \n",
       "1343        1343  natural_disaster         \n",
       "1344        1344  natural_disaster         \n",
       "1345        1345  natural_disaster         \n",
       "\n",
       "                                                   text source target  \\\n",
       "1341  Our Deeds are the Reason of this #earthquake M...          real   \n",
       "1342             Forest fire near La Ronge Sask. Canada          real   \n",
       "1343  All residents asked to 'shelter in place' are ...          real   \n",
       "1344  13,000 people receive #wildfires evacuation or...          real   \n",
       "1345  Just got sent this photo from Ruby #Alaska as ...          real   \n",
       "\n",
       "                                             clean_text clean_title  is_fake  \n",
       "1341               deed reason earthquake allah forgive                  0.0  \n",
       "1342                   forest near la ronge sask canada                  0.0  \n",
       "1343  resident asked shelter place notified officer ...                  0.0  \n",
       "1344  people receive wildfire evacuation order calif...                  0.0  \n",
       "1345  got sent photo ruby alaska smoke wildfire pour...                  0.0  "
      ]
     },
     "execution_count": 280,
     "metadata": {},
     "output_type": "execute_result"
    }
   ],
   "source": [
    "natural['clean_text']=natural['clean_text'].astype('string')\n",
    "natural = natural.replace(np.nan, '', regex=True)\n",
    "print(natural['clean_text'].dtype)\n",
    "natural.head()"
   ]
  },
  {
   "cell_type": "code",
   "execution_count": 281,
   "metadata": {},
   "outputs": [
    {
     "data": {
      "text/plain": [
       "<matplotlib.axes._subplots.AxesSubplot object at 0x1721e3820>"
      ]
     },
     "execution_count": 281,
     "metadata": {},
     "output_type": "execute_result"
    },
    {
     "data": {
      "image/png": "[encoded data removed]",
      "text/plain": [
       "<Figure size 432x288 with 1 Axes>"
      ]
     },
     "metadata": {},
     "output_type": "display_data"
    }
   ],
   "source": [
    "sns.set_style(\"darkgrid\")\n",
    "sns.countplot(natural.target)"
   ]
  },
  {
   "cell_type": "code",
   "execution_count": 282,
   "metadata": {},
   "outputs": [
    {
     "name": "stdout",
     "output_type": "stream",
     "text": [
      "Random under-sampling:\n",
      "1.0    4342\n",
      "0.0    3271\n",
      "Name: is_fake, dtype: int64\n",
      "(7613, 9)\n"
     ]
    },
    {
     "data": {
      "image/png": "[encoded data removed]",
      "text/plain": [
       "<Figure size 432x288 with 1 Axes>"
      ]
     },
     "metadata": {},
     "output_type": "display_data"
    }
   ],
   "source": [
    "# Class count\n",
    "count_class_real, count_class_fake = natural.is_fake.value_counts()\n",
    "\n",
    "# Divide by class\n",
    "df_class_real = natural[natural['is_fake'] == 0.0]\n",
    "df_class_fake = natural[natural['is_fake'] == 1.0]\n",
    "\n",
    "\n",
    "df_class_real_under = df_class_real.sample(count_class_fake)\n",
    "natural = pd.concat([df_class_real_under, df_class_fake], axis=0)\n",
    "\n",
    "print('Random under-sampling:')\n",
    "print(natural.is_fake.value_counts())\n",
    "\n",
    "natural.is_fake.value_counts().plot(kind='bar', title='Count (target)');\n",
    "\n",
    "natural.head()\n",
    "print(natural.shape)"
   ]
  },
  {
   "cell_type": "code",
   "execution_count": 283,
   "metadata": {},
   "outputs": [],
   "source": [
    "X=natural['clean_text']\n",
    "y=natural['is_fake']\n",
    "X_train, X_test, y_train, y_test = train_test_split(X, y, test_size=0.2, random_state=42)"
   ]
  },
  {
   "cell_type": "code",
   "execution_count": 284,
   "metadata": {},
   "outputs": [],
   "source": [
    "rfc4=Pipeline([\n",
    "    ('bow',CountVectorizer()),\n",
    "    ('tfidf',TfidfTransformer()),\n",
    "    ('classifier',RandomForestClassifier())])"
   ]
  },
  {
   "cell_type": "code",
   "execution_count": 285,
   "metadata": {},
   "outputs": [],
   "source": [
    "rfc4.fit(X_train,y_train)\n",
    "predictions_rfc4=rfc4.predict(X_test)"
   ]
  },
  {
   "cell_type": "code",
   "execution_count": 286,
   "metadata": {},
   "outputs": [
    {
     "name": "stdout",
     "output_type": "stream",
     "text": [
      "[[442 247]\n",
      " [ 90 744]]\n",
      "\n",
      "\n",
      "              precision    recall  f1-score   support\n",
      "\n",
      "         0.0       0.83      0.64      0.72       689\n",
      "         1.0       0.75      0.89      0.82       834\n",
      "\n",
      "    accuracy                           0.78      1523\n",
      "   macro avg       0.79      0.77      0.77      1523\n",
      "weighted avg       0.79      0.78      0.77      1523\n",
      "\n"
     ]
    }
   ],
   "source": [
    "print(confusion_matrix(y_test, predictions_rfc4))\n",
    "print('\\n')\n",
    "print(classification_report(y_test, predictions_rfc4))"
   ]
  },
  {
   "cell_type": "code",
   "execution_count": 287,
   "metadata": {},
   "outputs": [],
   "source": [
    "lr4=Pipeline([\n",
    "    ('bow',CountVectorizer()),\n",
    "    ('tfidf',TfidfTransformer()),\n",
    "    ('classifier',XGBClassifier())])"
   ]
  },
  {
   "cell_type": "code",
   "execution_count": 288,
   "metadata": {},
   "outputs": [],
   "source": [
    "lr4.fit(X_train,y_train)\n",
    "predictions_lr4=lr4.predict(X_test)"
   ]
  },
  {
   "cell_type": "code",
   "execution_count": 289,
   "metadata": {},
   "outputs": [
    {
     "name": "stdout",
     "output_type": "stream",
     "text": [
      "[[393 296]\n",
      " [ 76 758]]\n",
      "\n",
      "\n",
      "              precision    recall  f1-score   support\n",
      "\n",
      "         0.0       0.84      0.57      0.68       689\n",
      "         1.0       0.72      0.91      0.80       834\n",
      "\n",
      "    accuracy                           0.76      1523\n",
      "   macro avg       0.78      0.74      0.74      1523\n",
      "weighted avg       0.77      0.76      0.75      1523\n",
      "\n"
     ]
    }
   ],
   "source": [
    "print(confusion_matrix(y_test, predictions_lr4))\n",
    "print('\\n')\n",
    "print(classification_report(y_test, predictions_lr4))"
   ]
  },
  {
   "cell_type": "code",
   "execution_count": 290,
   "metadata": {},
   "outputs": [],
   "source": [
    "pac4=Pipeline([\n",
    "    ('bow',CountVectorizer()),\n",
    "    ('tfidf',TfidfTransformer()),\n",
    "    ('classifier',PassiveAggressiveClassifier())])"
   ]
  },
  {
   "cell_type": "code",
   "execution_count": 291,
   "metadata": {},
   "outputs": [],
   "source": [
    "pac4.fit(X_train,y_train)\n",
    "predictions_pac4=pac4.predict(X_test)"
   ]
  },
  {
   "cell_type": "code",
   "execution_count": 292,
   "metadata": {},
   "outputs": [
    {
     "name": "stdout",
     "output_type": "stream",
     "text": [
      "[[452 237]\n",
      " [151 683]]\n",
      "\n",
      "\n",
      "              precision    recall  f1-score   support\n",
      "\n",
      "         0.0       0.75      0.66      0.70       689\n",
      "         1.0       0.74      0.82      0.78       834\n",
      "\n",
      "    accuracy                           0.75      1523\n",
      "   macro avg       0.75      0.74      0.74      1523\n",
      "weighted avg       0.75      0.75      0.74      1523\n",
      "\n"
     ]
    }
   ],
   "source": [
    "print(confusion_matrix(y_test, predictions_pac4))\n",
    "print('\\n')\n",
    "print(classification_report(y_test, predictions_pac4))"
   ]
  },
  {
   "cell_type": "code",
   "execution_count": 293,
   "metadata": {},
   "outputs": [],
   "source": [
    "xgb4=Pipeline([\n",
    "    ('bow',CountVectorizer()),\n",
    "    ('tfidf',TfidfTransformer()),\n",
    "    ('classifier',XGBClassifier())])"
   ]
  },
  {
   "cell_type": "code",
   "execution_count": 294,
   "metadata": {},
   "outputs": [],
   "source": [
    "xgb4.fit(X_train,y_train)\n",
    "predictions_xgb4=xgb4.predict(X_test)"
   ]
  },
  {
   "cell_type": "code",
   "execution_count": 295,
   "metadata": {},
   "outputs": [
    {
     "name": "stdout",
     "output_type": "stream",
     "text": [
      "[[393 296]\n",
      " [ 76 758]]\n",
      "\n",
      "\n",
      "              precision    recall  f1-score   support\n",
      "\n",
      "         0.0       0.84      0.57      0.68       689\n",
      "         1.0       0.72      0.91      0.80       834\n",
      "\n",
      "    accuracy                           0.76      1523\n",
      "   macro avg       0.78      0.74      0.74      1523\n",
      "weighted avg       0.77      0.76      0.75      1523\n",
      "\n"
     ]
    }
   ],
   "source": [
    "print(confusion_matrix(y_test, predictions_xgb4))\n",
    "print('\\n')\n",
    "print(classification_report(y_test, predictions_xgb4))"
   ]
  },
  {
   "cell_type": "markdown",
   "metadata": {},
   "source": [
    "# Cross Validation with Grid Search"
   ]
  },
  {
   "cell_type": "code",
   "execution_count": 297,
   "metadata": {},
   "outputs": [
    {
     "name": "stdout",
     "output_type": "stream",
     "text": [
      "Fitting 3 folds for each of 12 candidates, totalling 36 fits\n"
     ]
    },
    {
     "name": "stderr",
     "output_type": "stream",
     "text": [
      "[Parallel(n_jobs=-1)]: Using backend LokyBackend with 4 concurrent workers.\n",
      "[Parallel(n_jobs=-1)]: Done  36 out of  36 | elapsed:   11.4s finished\n",
      "[Parallel(n_jobs=-1)]: Using backend LokyBackend with 4 concurrent workers.\n"
     ]
    },
    {
     "name": "stdout",
     "output_type": "stream",
     "text": [
      "Fitting 3 folds for each of 1 candidates, totalling 3 fits\n"
     ]
    },
    {
     "name": "stderr",
     "output_type": "stream",
     "text": [
      "[Parallel(n_jobs=-1)]: Done   3 out of   3 | elapsed:    2.9s finished\n"
     ]
    },
    {
     "name": "stdout",
     "output_type": "stream",
     "text": [
      "Fitting 3 folds for each of 16 candidates, totalling 48 fits\n"
     ]
    },
    {
     "name": "stderr",
     "output_type": "stream",
     "text": [
      "[Parallel(n_jobs=-1)]: Using backend LokyBackend with 4 concurrent workers.\n",
      "[Parallel(n_jobs=-1)]: Done  48 out of  48 | elapsed:    4.9s finished\n"
     ]
    },
    {
     "name": "stdout",
     "output_type": "stream",
     "text": [
      "Fitting 3 folds for each of 1 candidates, totalling 3 fits\n"
     ]
    },
    {
     "name": "stderr",
     "output_type": "stream",
     "text": [
      "[Parallel(n_jobs=-1)]: Using backend LokyBackend with 4 concurrent workers.\n",
      "[Parallel(n_jobs=-1)]: Done   3 out of   3 | elapsed:    3.9s finished\n"
     ]
    },
    {
     "name": "stdout",
     "output_type": "stream",
     "text": [
      "Fitting 3 folds for each of 8 candidates, totalling 24 fits\n"
     ]
    },
    {
     "name": "stderr",
     "output_type": "stream",
     "text": [
      "[Parallel(n_jobs=-1)]: Using backend LokyBackend with 4 concurrent workers.\n",
      "[Parallel(n_jobs=-1)]: Done  24 out of  24 | elapsed:    3.0s finished\n"
     ]
    },
    {
     "data": {
      "text/plain": [
       "GridSearchCV(cv=3,\n",
       "             estimator=Pipeline(steps=[('tvec', TfidfVectorizer()),\n",
       "                                       ('pac', PassiveAggressiveClassifier())]),\n",
       "             n_jobs=-1,\n",
       "             param_grid={'pac__C': [0.003, 0.01, 0.03, 0.1],\n",
       "                         'pac__loss': ['hinge', 'squared_hinge'],\n",
       "                         'tvec__max_features': [2000],\n",
       "                         'tvec__ngram_range': [(1, 2)],\n",
       "                         'tvec__stop_words': ['english']},\n",
       "             verbose=1)"
      ]
     },
     "execution_count": 297,
     "metadata": {},
     "output_type": "execute_result"
    }
   ],
   "source": [
    "# Fit\n",
    "# Setting up GridSearch for TFIDFVectorizer\n",
    "tvc_gs = GridSearchCV(tvc_pipe, param_grid=tf_params, cv = 3, verbose =1, n_jobs = -1)\n",
    "# Setting up GridSearch for Randomforest, Logisticegression,XGBoost Classifier and PassiveAgressiveClassifier\n",
    "rf_gs = GridSearchCV(rf_pipe, param_grid=rf_params, cv = 3, verbose = 1, n_jobs = -1)\n",
    "lr_gs =GridSearchCV(lr_pipe, param_grid=lr_params, cv = 3, verbose = 1, n_jobs = -1)\n",
    "xgb_gs =GridSearchCV(xgb_pipe, param_grid=xgb_params, cv = 3, verbose = 1, n_jobs = -1)\n",
    "pac_gs = GridSearchCV(pac_pipe, param_grid=pac_params, cv = 3, verbose = 1, n_jobs = -1)\n",
    "\n",
    "# Fitting TVC GS\n",
    "tvc_gs.fit(X_train, y_train)\n",
    "# Fitting Randomforest CV GS\n",
    "rf_gs.fit(X_train, y_train)\n",
    "lr_gs.fit(X_train, y_train)\n",
    "xgb_gs.fit(X_train, y_train)\n",
    "pac_gs.fit(X_train, y_train)"
   ]
  },
  {
   "cell_type": "code",
   "execution_count": 298,
   "metadata": {},
   "outputs": [],
   "source": [
    "predictions_rfc_cv=rf_gs.predict(X_test)\n",
    "predictions_lr_cv=lr_gs.predict(X_test)\n",
    "predictions_xgb_cv=xgb_gs.predict(X_test)\n",
    "predictions_pac_cv=pac_gs.predict(X_test)\n"
   ]
  },
  {
   "cell_type": "code",
   "execution_count": 299,
   "metadata": {},
   "outputs": [
    {
     "name": "stdout",
     "output_type": "stream",
     "text": [
      "[[480 209]\n",
      " [124 710]]\n",
      "\n",
      "\n",
      "              precision    recall  f1-score   support\n",
      "\n",
      "         0.0       0.79      0.70      0.74       689\n",
      "         1.0       0.77      0.85      0.81       834\n",
      "\n",
      "    accuracy                           0.78      1523\n",
      "   macro avg       0.78      0.77      0.78      1523\n",
      "weighted avg       0.78      0.78      0.78      1523\n",
      "\n",
      "[[454 235]\n",
      " [ 77 757]]\n",
      "\n",
      "\n",
      "              precision    recall  f1-score   support\n",
      "\n",
      "         0.0       0.85      0.66      0.74       689\n",
      "         1.0       0.76      0.91      0.83       834\n",
      "\n",
      "    accuracy                           0.80      1523\n",
      "   macro avg       0.81      0.78      0.79      1523\n",
      "weighted avg       0.80      0.80      0.79      1523\n",
      "\n",
      "[[392 297]\n",
      " [ 74 760]]\n",
      "\n",
      "\n",
      "              precision    recall  f1-score   support\n",
      "\n",
      "         0.0       0.84      0.57      0.68       689\n",
      "         1.0       0.72      0.91      0.80       834\n",
      "\n",
      "    accuracy                           0.76      1523\n",
      "   macro avg       0.78      0.74      0.74      1523\n",
      "weighted avg       0.77      0.76      0.75      1523\n",
      "\n",
      "[[441 248]\n",
      " [ 73 761]]\n",
      "\n",
      "\n",
      "              precision    recall  f1-score   support\n",
      "\n",
      "         0.0       0.86      0.64      0.73       689\n",
      "         1.0       0.75      0.91      0.83       834\n",
      "\n",
      "    accuracy                           0.79      1523\n",
      "   macro avg       0.81      0.78      0.78      1523\n",
      "weighted avg       0.80      0.79      0.78      1523\n",
      "\n"
     ]
    }
   ],
   "source": [
    "print(confusion_matrix(y_test, predictions_rfc_cv))\n",
    "print('\\n')\n",
    "print(classification_report(y_test, predictions_rfc_cv))\n",
    "\n",
    "print(confusion_matrix(y_test, predictions_lr_cv))\n",
    "print('\\n')\n",
    "print(classification_report(y_test, predictions_lr_cv))\n",
    "\n",
    "print(confusion_matrix(y_test, predictions_xgb_cv))\n",
    "print('\\n')\n",
    "print(classification_report(y_test, predictions_xgb_cv))\n",
    "\n",
    "print(confusion_matrix(y_test, predictions_pac_cv))\n",
    "print('\\n')\n",
    "print(classification_report(y_test, predictions_pac_cv))"
   ]
  },
  {
   "cell_type": "code",
   "execution_count": 300,
   "metadata": {},
   "outputs": [
    {
     "name": "stdout",
     "output_type": "stream",
     "text": [
      "TFID score on train: 0.8453201970443349\n",
      "TFID score on test: 0.7852921864740644\n",
      "RF score on train: 0.9108374384236453\n",
      "LR score on train: 0.8533661740558293\n",
      "XGB score on train: 0.8571428571428571\n",
      "PassiveAC score on train: 0.8397372742200329\n",
      "RF score on test: 0.7813525935653316\n",
      "LR score on test: 0.7951411687458962\n",
      "XGB score on test: 0.7564018384766907\n",
      "PassiveAC score on test: 0.7892317793827971\n"
     ]
    }
   ],
   "source": [
    "# Scoring Training data on TFIDFVectorizer\n",
    "print('TFID score on train:' ,tvc_gs.score(X_train, y_train))\n",
    "\n",
    "# Scoring Test data on TFIDFVectorizer\n",
    "print('TFID score on test:' ,tvc_gs.score(X_test, y_test))\n",
    "\n",
    "# Scoring Training data on all models\n",
    "print('RF score on train:' ,rf_gs.score(X_train, y_train))\n",
    "print('LR score on train:' ,lr_gs.score(X_train, y_train))\n",
    "print('XGB score on train:' ,xgb_gs.score(X_train, y_train))\n",
    "print('PassiveAC score on train:' ,pac_gs.score(X_train, y_train))\n",
    "# Checking Test score on all models\n",
    "print('RF score on test:' ,rf_gs.score(X_test, y_test))\n",
    "print('LR score on test:' ,lr_gs.score(X_test, y_test))\n",
    "print('XGB score on test:' ,xgb_gs.score(X_test, y_test))\n",
    "print('PassiveAC score on test:' ,pac_gs.score(X_test, y_test))"
   ]
  },
  {
   "cell_type": "code",
   "execution_count": null,
   "metadata": {},
   "outputs": [],
   "source": []
  }
 ],
 "metadata": {
  "kernelspec": {
   "display_name": "Python 3",
   "language": "python",
   "name": "python3"
  },
  "language_info": {
   "codemirror_mode": {
    "name": "ipython",
    "version": 3
   },
   "file_extension": ".py",
   "mimetype": "text/x-python",
   "name": "python",
   "nbconvert_exporter": "python",
   "pygments_lexer": "ipython3",
   "version": "3.8.3"
  }
 },
 "nbformat": 4,
 "nbformat_minor": 4
}
